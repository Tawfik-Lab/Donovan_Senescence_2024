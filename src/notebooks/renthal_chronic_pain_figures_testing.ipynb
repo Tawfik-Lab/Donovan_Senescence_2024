{
 "cells": [
  {
   "cell_type": "code",
   "execution_count": null,
   "metadata": {
    "editable": true,
    "slideshow": {
     "slide_type": ""
    },
    "tags": []
   },
   "outputs": [],
   "source": [
    "import sys\n",
    "import os\n",
    "import os.path\n",
    "import logging\n",
    "import numpy as np\n",
    "import pandas as pd\n",
    "import scanpy as sc\n",
    "import scipy.stats as sps\n",
    "from anndata import AnnData\n",
    "import anndata\n",
    "from collections import defaultdict, OrderedDict\n",
    "import plotly.express.colors as pxcolors\n",
    "import plotly.express as px\n",
    "import plotly.graph_objects as go\n",
    "import plotly.io as pio\n",
    "from plotly.subplots import make_subplots\n",
    "\n",
    "# local to this analysis\n",
    "from util import adata_filter\n",
    "\n",
    "# need to stop using\n",
    "from rubedo.platform.client import dev_instance\n",
    "from rubedo.platform.target_discovery.filters import create_binary_annotation\n",
    "\n",
    "# for development\n",
    "from importlib import reload\n",
    "\n",
    "\n",
    "FORMAT = '%(asctime)-15s %(message)s'\n",
    "logging.basicConfig(format=FORMAT)\n",
    "logger = logging.getLogger(__name__)\n",
    "logger.setLevel(logging.INFO)\n",
    "\n",
    "sc.settings.verbosity = 3\n",
    "sc.logging.print_header()\n",
    "sc.settings.set_figure_params(dpi=120)"
   ]
  },
  {
   "cell_type": "code",
   "execution_count": null,
   "metadata": {
    "editable": true,
    "slideshow": {
     "slide_type": ""
    },
    "tags": [
     "parameters",
     "params"
    ]
   },
   "outputs": [],
   "source": [
    "# Configuration\n",
    "\n",
    "dataset = 'GSE154659'\n",
    "variant = 'lin_norm'\n",
    "model = 'ScNT'\n",
    "neuron_filter = {\n",
    "    'model': [model, 'Naive'],\n",
    "    'mouse': 'C57',\n",
    "    'subtype': [\n",
    "        'SST',\n",
    "        'NP',\n",
    "        'PEP1',\n",
    "        'NF2',\n",
    "        'NF1',\n",
    "        'NF3',\n",
    "        'p_cLTMR2',\n",
    "        'cLTMR1',\n",
    "        'PEP2',\n",
    "    ],\n",
    "    'n_counts': lambda x: x <= 15000,\n",
    "}\n",
    "non_neuron_filter = {\n",
    "    'model': [model, 'Naive'],\n",
    "    'mouse': 'C57',\n",
    "    'subtype': [\n",
    "        'Schwann',\n",
    "        'Repair schwann',\n",
    "        'B cell',\n",
    "        'Endothelial',\n",
    "        'Fibroblast',\n",
    "        'Macrophage',\n",
    "        'Neutrophil',\n",
    "        'Repair fibroblast',\n",
    "        'Satglia',\n",
    "        'Pericyte',\n",
    "    ],\n",
    "    'n_counts': lambda x: x <= 15000,\n",
    "}\n",
    "\n",
    "\n",
    "# abs(log2 fold change) must be greater than this\n",
    "l2fc_thresh = .6 \n",
    "\n",
    "\n",
    "output_dir = '/home/alasla/drgoutput'\n",
    "output_dir = '/bigdata/adhoc/drg'\n",
    "\n",
    "# per cell gene signatures to assess\n",
    "gene_signatures = [\n",
    "    'CDKN2A,-LMNB1,-TOP2A',\n",
    "    'CDKN1A,CDKN2A,-LMNB1,-TOP2A',\n",
    "    'CDKN1A,-LMNB1,-TOP2A',\n",
    "    'CDKN2A,-TOP2A',\n",
    "]\n",
    "\n",
    "# in some cases we group cells into larger cell type groups\n",
    "# according to this scheme\n",
    "cell_groups = dict(\n",
    "    neuron=[\n",
    "        'SST',\n",
    "        'NP',\n",
    "        'PEP1',\n",
    "        'NF2',\n",
    "        'NF1',\n",
    "        'NF3',\n",
    "        'p_cLTMR2',\n",
    "        'cLTMR1',\n",
    "        'PEP2',\n",
    "    ],\n",
    "    glia=[\n",
    "        'Schwann',\n",
    "        'Repair schwann',\n",
    "        'Satglia',\n",
    "    ],\n",
    "    other=[\n",
    "        'B cell',\n",
    "        'Endothelial',\n",
    "        'Fibroblast',\n",
    "        'Macrophage',\n",
    "        'Neutrophil',\n",
    "        'Repair fibroblast',\n",
    "        'Pericyte',\n",
    "    ],\n",
    ")\n",
    "\n"
   ]
  },
  {
   "cell_type": "code",
   "execution_count": null,
   "metadata": {
    "editable": true,
    "slideshow": {
     "slide_type": ""
    },
    "tags": []
   },
   "outputs": [],
   "source": [
    "# Load Dataset \n",
    "client = dev_instance()\n",
    "broker = client.get_databroker(dataset)\n",
    "adata = broker.load_variant(variant)\n",
    "T = broker.get_taxonomy('ward')\n",
    "\n",
    "adata"
   ]
  },
  {
   "cell_type": "code",
   "execution_count": null,
   "metadata": {},
   "outputs": [],
   "source": [
    "import util\n",
    "reload(util)\n",
    "import plotting\n",
    "reload(plotting)\n",
    "import de\n",
    "reload(de)\n",
    "import scoring\n",
    "reload(scoring)\n",
    "import signatures\n",
    "reload(signatures)\n",
    "adata_filter = util.adata_filter\n",
    "adata_filter_mask = util.adata_filter_mask\n",
    "differential_expression = de.differential_expression\n",
    "flag_de = de.flag_de\n",
    "get_de_genes = de.get_de_genes\n",
    "perform_de = de.perform_de\n",
    "dotplot = plotting.dotplot\n",
    "plot_de_genes = plotting.plot_de_genes\n",
    "plot_score_heatmap = plotting.plot_score_heatmap\n",
    "score_within_key = scoring.score_within_key\n",
    "assess_signatures = signatures.assess_signatures"
   ]
  },
  {
   "cell_type": "code",
   "execution_count": null,
   "metadata": {},
   "outputs": [],
   "source": []
  },
  {
   "cell_type": "code",
   "execution_count": null,
   "metadata": {},
   "outputs": [],
   "source": [
    "# split dataset into neurons and non-neurons according to filters described above\n",
    "# filter datasets to only contains the configured model and cell types\n",
    "adata_neuron = adata_filter(adata, neuron_filter).copy()\n",
    "adata_non_neuron = adata_filter(adata, non_neuron_filter).copy()\n",
    "adata_neuron\n"
   ]
  },
  {
   "cell_type": "code",
   "execution_count": null,
   "metadata": {},
   "outputs": [],
   "source": [
    "adata_non_neuron"
   ]
  },
  {
   "cell_type": "code",
   "execution_count": null,
   "metadata": {
    "editable": true,
    "slideshow": {
     "slide_type": ""
    },
    "tags": []
   },
   "outputs": [],
   "source": [
    "\n",
    "# add some categorizations here to help group cells\n",
    "# label: A combination of model and time-point\n",
    "# label_subtype: a combination of model, time-point, and subtype\n",
    "\n",
    "adata_neuron.obs['label'] = [f'{model}_{int(hour):04}h' if cmodel == model else cmodel for (cmodel, hour) in zip(adata_neuron.obs['model'], adata_neuron.obs['hour'])]\n",
    "adata_neuron.obs['label_subtype'] = [f'{subtype}_{int(hour):04}h' if cmodel == model else f'{subtype}_{0:04}_Naive' for (cmodel, subtype, hour) in zip(adata_neuron.obs['model'], adata_neuron.obs['subtype'], adata_neuron.obs['hour'])]\n",
    "\n",
    "adata_non_neuron.obs['label'] = [f'{model}_{int(hour):04}h' if cmodel == model else model for (cmodel, hour) in zip(adata_non_neuron.obs['model'], adata_non_neuron.obs['hour'])]\n",
    "adata_non_neuron.obs['label_subtype'] = [f'{subtype}_{int(hour):04}h' if cmodel == model else f'{subtype}_{0:04}_Naive' for (cmodel, subtype, hour) in zip(adata_non_neuron.obs['model'], adata_non_neuron.obs['subtype'], adata_non_neuron.obs['hour'])]\n",
    "\n",
    "adata_neuron.obs['label'].unique()\n",
    "adata_neuron.obs['label_subtype'].unique()"
   ]
  },
  {
   "cell_type": "code",
   "execution_count": null,
   "metadata": {},
   "outputs": [],
   "source": [
    "# list of unique labels\n",
    "adata_neuron.obs['label'].unique()"
   ]
  },
  {
   "cell_type": "code",
   "execution_count": null,
   "metadata": {},
   "outputs": [],
   "source": [
    "# list of unique subtype labels\n",
    "adata_neuron.obs['label_subtype'].unique()"
   ]
  },
  {
   "cell_type": "code",
   "execution_count": null,
   "metadata": {},
   "outputs": [],
   "source": [
    "# create an additional label that includes whether a cell has nonzero expression of ATF3\n",
    "\n",
    "def atf3_label(l, a):\n",
    "    if l == 'Naive':\n",
    "        return l\n",
    "    if a:\n",
    "        return f'{l}_ATF3+'\n",
    "    else:\n",
    "        return f'{l}_ATF3-'\n",
    "adata_neuron.obs['atf3_label'] = [atf3_label(l, a) for (l, a) in zip(adata_neuron.obs['label'], adata_filter_mask(adata_neuron, {'ATF3': {'gt': 0.0}}))]\n",
    "adata_neuron.obs['atf3_label'].unique()"
   ]
  },
  {
   "cell_type": "code",
   "execution_count": null,
   "metadata": {},
   "outputs": [],
   "source": [
    "# create differential expression contrasts\n",
    "# for each of label, label_subtype, and atf3_label, create a comparison between that grouping of cells, and the comperable grouping of Naive cells\n",
    "# in the resulting 'comparisons' dictionary, t\n",
    "# key is: \"Forground:Background\" where Foreground and Background are the names of the group of cells, for example \"ScNT_1440h:Naive\"\n",
    "# value is: a tuple of filter dictionaries (each composed of {\"obs_key\": \"required_value\"} as accepted by the adata_filter_mask() function) \n",
    "#   one for foreground cells, and one for background\n",
    "\n",
    "naive = None\n",
    "naive_subtype = None\n",
    "modeled = {}\n",
    "modeled_subtype = {}\n",
    "modeled_atf3 = {}\n",
    "for i, row in adata_neuron.obs.iterrows():\n",
    "    model = row['model']\n",
    "    hour = row['hour']\n",
    "    label = row['label']\n",
    "    label_subtype = row['label_subtype']\n",
    "    atf3_label = row['atf3_label']\n",
    "\n",
    "    if model == 'Naive':\n",
    "        if naive is None:\n",
    "            naive = {'label': label}\n",
    "        if naive_subtype is None:\n",
    "            naive_subtype = {'label_subtype': label_subtype}\n",
    "    else:\n",
    "        val = (int(hour), {'label': label})\n",
    "        if label not in modeled:\n",
    "            modeled[label] = val\n",
    "            \n",
    "        val_subtype = (int(hour), {'label_subtype': label_subtype})\n",
    "        if label_subtype not in modeled_subtype:\n",
    "            modeled_subtype[label_subtype] = val_subtype\n",
    "\n",
    "        val_atf3 = (int(hour), {'atf3_label': atf3_label})\n",
    "        if atf3_label not in modeled_atf3:\n",
    "            modeled_atf3[atf3_label] = val_atf3\n",
    "\n",
    "modeled = [y[1] for y in sorted(modeled.values(), key=lambda x: x[0])]\n",
    "modeled_atf3 = [y[1] for y in sorted(modeled_atf3.values(), key=lambda x: x[0])]\n",
    "modeled_subtype = [y[1] for y in sorted(modeled_subtype.values(), key=lambda x: x[0])]\n",
    "\n",
    "comparisons = {}\n",
    "for m in modeled:\n",
    "    v = list(m.values())[0]\n",
    "    n = list(naive.values())[0]\n",
    "    comparisons[f'{v}:{n}'] = (m, naive)\n",
    "for m in modeled_atf3:\n",
    "    v = list(m.values())[0]\n",
    "    n = list(naive.values())[0]\n",
    "    comparisons[f'{v}:{n}'] = (m, naive)\n",
    "for m in modeled_subtype:\n",
    "    v = list(m.values())[0]\n",
    "    n = list(naive_subtype.values())[0]\n",
    "    comparisons[f'{v}:{n}'] = (m, naive_subtype)\n",
    "\n",
    "comparisons\n",
    "    "
   ]
  },
  {
   "cell_type": "code",
   "execution_count": null,
   "metadata": {},
   "outputs": [],
   "source": [
    "# compute differential expression for neurons based on the above configured contrasts\n",
    "# takes the dictionary of contrast_name to contrast filters\n",
    "# it returns a dictionary of contrast_name -> pandas.DataFrame\n",
    "# each DataFrame contains the per-gene differential expression statistics\n",
    "des_neuron = differential_expression(adata_neuron, comparisons)\n",
    "des_neuron['NF3_1440h:SST_0000_Naive']"
   ]
  },
  {
   "cell_type": "code",
   "execution_count": null,
   "metadata": {},
   "outputs": [],
   "source": [
    "# use the flag_de function to add a boolean 'is-de' column to each DataFrame\n",
    "# log2fc_thresh: abs(log2fc) must be greater than this\n",
    "# p_column: which computed statistic should be used as a significance threshold\n",
    "# p_thresh: the value of the p_column must be <= p_thresh\n",
    "de.flag_de(des_neuron, log2fc_thresh=l2fc_thresh, p_column='ranksums-fdr-p', p_thresh=.05)\n",
    "\n",
    "# show an example differential expression table\n",
    "det = des_neuron['NF3_1440h:SST_0000_Naive']\n",
    "det[det['is-de']]\n",
    "    "
   ]
  },
  {
   "cell_type": "code",
   "execution_count": null,
   "metadata": {},
   "outputs": [],
   "source": [
    "# split the differential expression tables up into 3 different analysis groups: label, label_subtype, label_atf3\n",
    "des_neuron_label = {k: v for k, v in des_neuron.items() if k.endswith(':Naive') and 'ATF3' not in k}\n",
    "des_neuron_label_subtype = {k: v for k, v in des_neuron.items() if not k.endswith(':Naive') and 'ATF3' not in k}\n",
    "des_neuron_atf3 = {k: v for k, v in des_neuron.items() if 'ATF3' in k}\n",
    "\n"
   ]
  },
  {
   "cell_type": "code",
   "execution_count": null,
   "metadata": {},
   "outputs": [],
   "source": [
    "# plot differentially expressed genes from included gene sets\n",
    "# shows only genes that are differential expressed in at least one of the differential expression tables\n",
    "plot_de_genes(\n",
    "    adata_neuron, \n",
    "    'label', \n",
    "    des_neuron_label, \n",
    "    genesets={'senmayo': 'senmayo', 'sasp_review': 'sasp_review'}, \n",
    "    genes=['CDKN1A', 'CDKN2A', 'ATF3', 'IL6', 'IL1B'],\n",
    "    sort_genes_by='expr',\n",
    "    smallest_dot=8.,\n",
    "    dot_min=.0,\n",
    ")"
   ]
  },
  {
   "cell_type": "code",
   "execution_count": null,
   "metadata": {},
   "outputs": [],
   "source": [
    "# select from the senmayo geneset only the genes that have some kind of differential expression at any model timepoint\n",
    "senmayo_de_genes = get_de_genes(des_neuron, genes=['CDKN1A', 'CDKN2A'], genesets={'senmayo': 'senmayo'})\n",
    "print(f'SenMayo DE Genes (at any timepoint): {senmayo_de_genes}')\n",
    "\n",
    "# using this subset of senmayo genes, score each single cell for its expression of genes in the gene-set\n",
    "# this is normalized within each neuron subtype\n",
    "score_within_key(\n",
    "    adata_neuron, \n",
    "    list(senmayo_de_genes),\n",
    "    'subtype',\n",
    "    'senmayo_score',\n",
    ")\n",
    "    \n",
    "        \n",
    "    "
   ]
  },
  {
   "cell_type": "code",
   "execution_count": null,
   "metadata": {},
   "outputs": [],
   "source": [
    "# plot heatmap of senmayo scores across model timepoints and neuron subtypes\n",
    "plot_score_heatmap(adata_neuron, 'subtype', 'hour', 'senmayo_score', y_as='int')"
   ]
  },
  {
   "cell_type": "code",
   "execution_count": null,
   "metadata": {},
   "outputs": [],
   "source": [
    "# create a new AnnData object only containing the normalized senmayo scores\n",
    "adata_neuron_scores = AnnData(adata_neuron.obs[['senmayo_score']])\n",
    "adata_neuron_scores.obs = adata_neuron.obs\n",
    "adata_neuron_scores\n"
   ]
  },
  {
   "cell_type": "code",
   "execution_count": null,
   "metadata": {},
   "outputs": [],
   "source": [
    "# compute \"differential expression\" of senmayo scores in order to generate statistical significace values for changes in score\n",
    "des_neuron_scores = differential_expression(adata_neuron_scores, comparisons, tests=['ranksums', 'ttest'])"
   ]
  },
  {
   "cell_type": "code",
   "execution_count": null,
   "metadata": {},
   "outputs": [],
   "source": [
    "det = des_neuron_scores['ScNT_0024h:Naive']\n",
    "det"
   ]
  },
  {
   "cell_type": "code",
   "execution_count": null,
   "metadata": {},
   "outputs": [],
   "source": [
    "rows = []\n",
    "for c, de in des_neuron_scores.items():\n",
    "    if c.endswith(':Naive'):\n",
    "        continue\n",
    "    sp = c.split(':')\n",
    "    fg = sp[0]\n",
    "    bg = sp[1]\n",
    "    st = '_'.join(fg.split('_')[:-1])\n",
    "    rp = de.iloc[0]['ranksums-p']\n",
    "    tp = de.iloc[0]['ttest-p']\n",
    "    rows.append([c, st, fg, bg, rp, tp])\n",
    "score_stats = pd.DataFrame(rows, columns=['contrast', 'subtype', 'foreground', 'background', 'ranksums_p', 'ttest_p'])\n",
    "score_stats = score_stats.sort_values('contrast')\n",
    "score_stats.set_index('contrast', inplace=True)\n",
    "score_stats\n",
    "    \n",
    "    "
   ]
  },
  {
   "cell_type": "code",
   "execution_count": null,
   "metadata": {},
   "outputs": [],
   "source": [
    "import util\n",
    "reload(util)\n",
    "import plotting\n",
    "reload(plotting)\n",
    "import de\n",
    "reload(de)\n",
    "import scoring\n",
    "reload(scoring)\n",
    "import signatures\n",
    "reload(signatures)\n",
    "adata_filter = util.adata_filter\n",
    "adata_filter_mask = util.adata_filter_mask\n",
    "differential_expression = de.differential_expression\n",
    "flag_de = de.flag_de\n",
    "get_de_genes = de.get_de_genes\n",
    "perform_de = de.perform_de\n",
    "summarize_de_genes = de.summarize_de_genes\n",
    "dotplot = plotting.dotplot\n",
    "plot_de_genes = plotting.plot_de_genes\n",
    "plot_score_heatmap = plotting.plot_score_heatmap\n",
    "score_within_key = scoring.score_within_key\n",
    "assess_signatures = signatures.assess_signatures"
   ]
  },
  {
   "cell_type": "code",
   "execution_count": null,
   "metadata": {},
   "outputs": [],
   "source": [
    "# assess configured gene signatures on all neurons and non-neurons\n",
    "# data is log1p transformed and scaled to per-gene variance without zero centering\n",
    "\n",
    "adata_neuron_scaled = adata_neuron.copy()\n",
    "sc.pp.log1p(adata_neuron_scaled)\n",
    "sc.pp.scale(adata_neuron_scaled, zero_center=False)\n",
    "assess_signatures(adata_neuron_scaled, gene_signatures)\n",
    "\n",
    "adata_non_neuron_scaled = adata_non_neuron.copy()\n",
    "sc.pp.log1p(adata_non_neuron_scaled)\n",
    "sc.pp.scale(adata_non_neuron_scaled, zero_center=False)\n",
    "assess_signatures(adata_non_neuron_scaled, gene_signatures)"
   ]
  },
  {
   "cell_type": "code",
   "execution_count": null,
   "metadata": {},
   "outputs": [],
   "source": [
    "# example raw signature scores\n",
    "adata_neuron_scaled.obs[['bi:CDKN2A,-LMNB1,-TOP2A', 'ad:CDKN2A,-LMNB1,-TOP2A', 'ex:CDKN2A,-LMNB1,-TOP2A']]"
   ]
  },
  {
   "cell_type": "code",
   "execution_count": null,
   "metadata": {},
   "outputs": [],
   "source": [
    "# summary statistics for number and percentages of cells for each cell-type cellgroup for each signaure\n",
    "# cells are considered to be positive for a signature only if they conform to it completely \n",
    "\n",
    "\n",
    "sig_columns = [f'ex:{sig}' for sig in gene_signatures]\n",
    "neuron_signatures = adata_neuron_scaled.obs[['hour', 'subtype'] + sig_columns].copy()\n",
    "neuron_signatures['compartment'] = 'neuron'\n",
    "non_neuron_signatures = adata_non_neuron_scaled.obs[['hour', 'subtype'] + sig_columns].copy()\n",
    "non_neuron_signatures['compartment'] = 'non-neuron'\n",
    "\n",
    "sig_df = pd.concat([neuron_signatures, non_neuron_signatures])\n",
    "\n",
    "def getgrp(x):\n",
    "    for k, v in cell_groups.items():\n",
    "        if x in v:\n",
    "            return k\n",
    "\n",
    "sig_df['cellgroup'] = [getgrp(s) for s in sig_df['subtype']]\n",
    "\n",
    "agg = {}\n",
    "agg['total'] = pd.NamedAgg(column='hour', aggfunc='count')\n",
    "for sig in gene_signatures:\n",
    "    agg[f'{sig}_num_cells_positive'] = pd.NamedAgg(column=f'ex:{sig}', aggfunc=lambda x: np.sum((x > 0.0).astype('int')))\n",
    "for col in ['subtype', 'compartment']:\n",
    "    agg[col] = pd.NamedAgg(column=col, aggfunc=lambda x: ','.join(sorted(set(x))))\n",
    "sig_df = sig_df.groupby(['hour', 'cellgroup']).agg(**agg)\n",
    "sig_df_no_i = sig_df.reset_index()\n",
    "sig_df_no_i.index = sig_df.index\n",
    "sig_df = sig_df_no_i\n",
    "total_per_hour = sig_df[['total']]\n",
    "total_per_hour.reset_index(inplace=True)\n",
    "total_per_hour = total_per_hour.groupby('hour').agg({'total': 'sum'}).to_dict()['total']\n",
    "for sig in gene_signatures:\n",
    "    sig_df[f'{sig}_percent_subtype_positive'] = (sig_df[f'{sig}_num_cells_positive'] / sig_df['total']) * 100\n",
    "    sig_df[f'{sig}_percent_all_positive'] = [(p / total_per_hour[h]) * 100 for (p, h) in zip(sig_df[f'{sig}_num_cells_positive'], sig_df['hour'])]\n",
    "\n",
    "first_cols = ['hour', 'cellgroup', 'subtype', 'compartment', 'total']\n",
    "rest_cols = []\n",
    "for sig in gene_signatures:\n",
    "    rest_cols.append(f'{sig}_num_cells_positive')\n",
    "    rest_cols.append(f'{sig}_percent_subtype_positive')\n",
    "    rest_cols.append(f'{sig}_percent_all_positive')\n",
    "sig_df['hour_int'] = [int(h) for h in sig_df['hour']]\n",
    "sig_df['cellgroup_cp'] = sig_df['cellgroup']\n",
    "sig_df = sig_df.sort_values(by=['hour_int', 'cellgroup_cp'])\n",
    "sig_df = sig_df[first_cols + rest_cols]\n",
    "sig_df"
   ]
  },
  {
   "cell_type": "code",
   "execution_count": null,
   "metadata": {},
   "outputs": [],
   "source": [
    "# quick timecourse plot of signature positivity\n",
    "fig = px.line(sig_df, x='hour', y='CDKN2A,-LMNB1,-TOP2A_percent_all_positive', color='cellgroup')\n",
    "fig.update_layout(height=800, width=1000)"
   ]
  },
  {
   "cell_type": "code",
   "execution_count": null,
   "metadata": {},
   "outputs": [],
   "source": [
    "\n",
    "fig = px.line(sig_df, x='hour', y='CDKN1A,-LMNB1,-TOP2A_percent_all_positive', color='cellgroup')\n",
    "fig.update_layout(height=800, width=1000)"
   ]
  },
  {
   "cell_type": "code",
   "execution_count": null,
   "metadata": {},
   "outputs": [],
   "source": [
    "# for plotting purposes order the atf3 labels Naive, ATF3-, ATF3+, and otherwise by timepoint\n",
    "atf3_labels = list(adata_neuron.obs['atf3_label'].unique())\n",
    "def sort_order(atf3_label):\n",
    "    if atf3_label == 'Naive':\n",
    "        return 0\n",
    "    sp = atf3_label.split('_')\n",
    "    model, hour, atf3 = sp\n",
    "    hv = int(hour[:-1])\n",
    "    if atf3 == 'ATF3+':\n",
    "        hv += 10000\n",
    "    return hv\n",
    "atf3_labels.sort(key=sort_order)\n",
    "atf3_labels\n",
    "    "
   ]
  },
  {
   "cell_type": "code",
   "execution_count": null,
   "metadata": {},
   "outputs": [],
   "source": [
    "# get statistics and \n",
    "# plot differentially expressed genes from included gene sets\n",
    "# shows only genes that are differential expressed in at least one of the differential expression tables\n",
    "# from this you can see that expression of senescence markers and senescence associated genes largely follow ATF3 expression\n",
    "plot_de_genes(\n",
    "    adata_neuron, \n",
    "    'atf3_label', \n",
    "    des_neuron_atf3, \n",
    "    genesets={'senmayo': 'senmayo', 'sasp_review': 'sasp_review'}, \n",
    "    genes=['CDKN1A', 'CDKN2A', 'ATF3', 'IL6', 'IL1B'],\n",
    "    sort_genes_by='expr',\n",
    "    smallest_dot=8.,\n",
    "    dot_min=.0,\n",
    "    categories_order=atf3_labels,\n",
    ")"
   ]
  },
  {
   "cell_type": "code",
   "execution_count": null,
   "metadata": {},
   "outputs": [],
   "source": [
    "summarize_de_genes(des_neuron_label, genesets={'senmayo': 'senmayo', 'sasp_review': 'sasp_review'}, genes=['CDKN1A', 'CDKN2A', 'ATF3', 'IL6', 'IL1B'])"
   ]
  },
  {
   "cell_type": "code",
   "execution_count": null,
   "metadata": {
    "editable": true,
    "slideshow": {
     "slide_type": ""
    },
    "tags": []
   },
   "outputs": [],
   "source": [
    "raise Exception('stop')"
   ]
  },
  {
   "cell_type": "code",
   "execution_count": null,
   "metadata": {},
   "outputs": [],
   "source": [
    "adata.obs['ATF3_pos'] = ['ATF3_pos' if x > 0.0 else 'ATF3_neg' for x in adata[:, adata.var_names == 'ATF3'].X[:, 0]]\n",
    "qder_atf3_s = rb.tl.quick_de(adata, groupby='ATF3_pos', gpu=False, is_log=False, log_base=2, fdr=True, statistical_tests=['approx-ranksums'])"
   ]
  },
  {
   "cell_type": "code",
   "execution_count": null,
   "metadata": {},
   "outputs": [],
   "source": [
    "atf3_de = qder_atf3_s.de_table('ATF3_pos', 'ATF3_neg', log2fc=l2fc_thresh, expr_min=0.0, pct_expr=0.0)\n",
    "atf3_de_sig = atf3_de[atf3_de['is-de']]\n",
    "atf3_de_sig"
   ]
  },
  {
   "cell_type": "code",
   "execution_count": null,
   "metadata": {},
   "outputs": [],
   "source": [
    "senm_gs = client.get_geneset('SenMayo_genelist', weighted=False)\n",
    "atf3_de_sig_senmayo = atf3_de_sig.loc[[x in senm_gs for x in atf3_de_sig.index]].sort_values(by='log2fc', ascending=False)\n",
    "atf3_de_sig_senmayo"
   ]
  },
  {
   "cell_type": "code",
   "execution_count": null,
   "metadata": {},
   "outputs": [],
   "source": [
    "adata.obs['senmayo_de_sc_score'] = adata_log_scaled.obs['senmayo_de_sc_score']\n",
    "rb.pl.dotplot(adata, ['CDKN1A', 'CDKN2A', 'IL6', 'ATF3', 'senmayo_de_sc_score'] + list(atf3_de_sig_senmayo.index), groupby='ATF3_pos', max_scale='var')\n",
    "de_show = atf3_de.loc[['CDKN1A', 'CDKN2A', 'IL6', 'ATF3'] + list(atf3_de_sig_senmayo.index)][['log2fc', 'approx-ranksums-fdr-p']]\n",
    "de_show.columns = ['log2fc', 'ranksums-fdr-p']\n",
    "de_show.round(2)"
   ]
  },
  {
   "cell_type": "code",
   "execution_count": null,
   "metadata": {},
   "outputs": [],
   "source": [
    "plot_gs_genes(\n",
    "    adata, \n",
    "    'label',\n",
    "    qder, \n",
    "    {\n",
    "        'senmayo': 'SenMayo_genelist', \n",
    "        'sasp_factors': 'sasp_review_all',\n",
    "    }, \n",
    "    add_genes=['CDKN1A', 'CDKN2A', 'ATF3', 'IL6', 'IL1B', 'senmayo_de_sc_score'],\n",
    ")"
   ]
  },
  {
   "cell_type": "code",
   "execution_count": null,
   "metadata": {},
   "outputs": [],
   "source": [
    "sc.pl.umap(adata, color='subtype')"
   ]
  },
  {
   "cell_type": "code",
   "execution_count": null,
   "metadata": {},
   "outputs": [],
   "source": [
    "rb.gme.msigdb.get_gene_modules_overview()"
   ]
  },
  {
   "cell_type": "code",
   "execution_count": null,
   "metadata": {},
   "outputs": [],
   "source": [
    "c3mods = rb.gme.msigdb.get_gene_modules(category='C3')\n",
    "[k for k in c3mods.keys() if k.startswith('ATF')]"
   ]
  },
  {
   "cell_type": "code",
   "execution_count": null,
   "metadata": {},
   "outputs": [],
   "source": [
    "atf3_targets = c3mods['ATF3_Q6']"
   ]
  },
  {
   "cell_type": "code",
   "execution_count": null,
   "metadata": {},
   "outputs": [],
   "source": [
    "atf3_targets_de = atf3_de[[x in atf3_targets for x in atf3_de.index]]\n",
    "atf3_targets_de"
   ]
  },
  {
   "cell_type": "code",
   "execution_count": null,
   "metadata": {},
   "outputs": [],
   "source": [
    "atf3_targets_de_sig = atf3_targets_de[create_binary_annotation(atf3_targets_de, {'log2fc': {'gt': .5}, 'approx-ranksums-p': {'lt': .05}})]\n",
    "atf3_targets_de_sig"
   ]
  },
  {
   "cell_type": "code",
   "execution_count": null,
   "metadata": {},
   "outputs": [],
   "source": [
    "rb.pl.dotplot(adata, list(atf3_targets_de_sig.index), groupby='ATF3_pos', max_scale='var')\n",
    "atf3_targets_de_sig[['log2fc', 'approx-ranksums-p', 'approx-ranksums-fdr-p']]"
   ]
  },
  {
   "cell_type": "code",
   "execution_count": null,
   "metadata": {},
   "outputs": [],
   "source": [
    "senmayo = client.get_geneset('SenMayo_genelist')\n",
    "senmayo"
   ]
  },
  {
   "cell_type": "code",
   "execution_count": null,
   "metadata": {},
   "outputs": [],
   "source": [
    "set(senmayo).intersection(set(atf3_targets))"
   ]
  },
  {
   "cell_type": "code",
   "execution_count": null,
   "metadata": {},
   "outputs": [],
   "source": [
    "signatures = [\n",
    "    'ex:CDKN2A,-LMNB1,-TOP2A',\n",
    "    'ex:CDKN1A,CDKN2A,-LMNB1,-TOP2A',\n",
    "    'ex:CDKN1A,-LMNB1,-TOP2A',\n",
    "    'ex:CDKN2A,-TOP2A',\n",
    "]\n",
    "for s in signatures:\n",
    "    rb.tl.signature_assess(adata, s)\n",
    "    rb.tl.signature_assess(adata_nn, s)"
   ]
  },
  {
   "cell_type": "code",
   "execution_count": null,
   "metadata": {},
   "outputs": [],
   "source": [
    "\n",
    "rows = []\n",
    "extra_cols = []\n",
    "total_total = adata.shape[0] + adata_nn.shape[0]\n",
    "total_per_hour = defaultdict(int)\n",
    "for (adt, compartment) in [(adata, 'neuronal'), (adata_nn, 'non-neuronal')]:\n",
    "    for hour in list(sorted(adt.obs['hour'].unique())):\n",
    "        adata_h = adt[adt.obs['hour'] == hour]\n",
    "        total_per_hour[hour] += adata_h.shape[0]\n",
    "    \n",
    "for (adt, compartment) in [(adata, 'neuronal'), (adata_nn, 'non-neuronal')]:\n",
    "    for subtype in list(sorted(adt.obs['subtype'].unique())):\n",
    "        adata_s = adt[adt.obs['subtype'] == subtype]\n",
    "        for hour in list(sorted(adata_s.obs['hour'].unique())):\n",
    "            adata_h = adata_s[adata_s.obs['hour'] == hour]\n",
    "            total = adata_h.shape[0]\n",
    "            row = [subtype, compartment, hour, total]\n",
    "            for s in signatures:\n",
    "                npos = (adata_h.obs[s] > 0).sum()\n",
    "                npct = (npos / total) * 100\n",
    "                npctall = (npos / total_per_hour[hour]) * 100\n",
    "                row.append(npos)\n",
    "                row.append(npct)\n",
    "                row.append(npctall)\n",
    "                poscol = f'{s}_num_cells_positive'\n",
    "                pctcol = f'{s}_percent_subtype_positive'\n",
    "                pctallcol = f'{s}_percent_all_positive'\n",
    "                for col in [poscol, pctcol, pctallcol]:\n",
    "                    if col not in extra_cols:\n",
    "                        extra_cols.append(col)\n",
    "            rows.append(row)\n",
    "signature = pd.DataFrame(rows, columns=['subtype', 'compartment', 'hour', 'total'] + extra_cols)\n",
    "signature\n",
    "    "
   ]
  },
  {
   "cell_type": "code",
   "execution_count": null,
   "metadata": {},
   "outputs": [],
   "source": [
    "signature[signature['subtype'] == 'NF2']"
   ]
  },
  {
   "cell_type": "code",
   "execution_count": null,
   "metadata": {},
   "outputs": [],
   "source": [
    "signature['hour_int'] = [int(x) for x in signature['hour']]\n",
    "signature = signature.sort_values(by=['subtype', 'hour_int'])\n",
    "signature['subtype_hour'] = [f'{s}_{h:4}' for s, h in zip(signature['subtype'], signature['hour_int'])]\n",
    "signature.index = [f'{s}_{h:4}' for s, h in zip(signature['subtype'], signature['hour_int'])]\n",
    "signature"
   ]
  },
  {
   "cell_type": "code",
   "execution_count": null,
   "metadata": {},
   "outputs": [],
   "source": [
    "hours = list(sorted(signature['hour_int'].unique()))\n",
    "hmap = {}\n",
    "for i in range(len(hours)):\n",
    "    hmap[hours[i]] = i\n",
    "signature['hour_idx'] = [hmap[h] for h in signature['hour_int']]\n",
    "    \n"
   ]
  },
  {
   "cell_type": "code",
   "execution_count": null,
   "metadata": {},
   "outputs": [],
   "source": [
    "def plot_sig(col, colname=None, color='subtype', symbol='compartment', layout_kwargs=None):\n",
    "    if not colname:\n",
    "        colname = col\n",
    "    fig = px.line(\n",
    "        signature,\n",
    "        x='hour_int',\n",
    "        y=col,\n",
    "        color=color,\n",
    "        symbol=symbol,\n",
    "    )\n",
    "    fig.update_layout(dict(\n",
    "        title=f'Per Subtype {colname} Timecourse',\n",
    "    ))\n",
    "    fig.update_yaxes(dict(\n",
    "        title=f'{colname}',\n",
    "    ))\n",
    "    if layout_kwargs:\n",
    "        fig.update_layout(**layout_kwargs)\n",
    "    return fig\n",
    "plot_sig('ex:CDKN2A,-LMNB1,-TOP2A_percent_subtype_positive', 'CDKN2A,-LMNB1,-TOP2A Percent of Subtype', layout_kwargs=dict(height=800, width=1200))"
   ]
  },
  {
   "cell_type": "code",
   "execution_count": null,
   "metadata": {},
   "outputs": [],
   "source": [
    "plot_sig('ex:CDKN2A,-LMNB1,-TOP2A_percent_all_positive', 'CDKN2A,-LMNB1,-TOP2A Percent of All Cells', layout_kwargs=dict(height=800, width=1200))"
   ]
  },
  {
   "cell_type": "code",
   "execution_count": null,
   "metadata": {},
   "outputs": [],
   "source": [
    "plot_sig('ex:CDKN1A,-LMNB1,-TOP2A_percent_all_positive', 'CDKN1A,-LMNB1,-TOP2A Percent of All Cells', layout_kwargs=dict(height=800, width=1200))"
   ]
  },
  {
   "cell_type": "markdown",
   "metadata": {},
   "source": [
    "## Figure 1"
   ]
  },
  {
   "cell_type": "code",
   "execution_count": null,
   "metadata": {},
   "outputs": [],
   "source": [
    "def plot_sig_facet(col, colname=None, color='subtype', symbol='compartment', layout_kwargs=None):\n",
    "    if not colname:\n",
    "        colname = col\n",
    "    fig = px.line(\n",
    "        signature,\n",
    "        x='hour_int',\n",
    "        y=col,\n",
    "        color=color,\n",
    "        symbol=symbol,\n",
    "    )\n",
    "    fig.update_layout(dict(\n",
    "        title=f'Per Subtype {colname} Timecourse',\n",
    "    ))\n",
    "    fig.update_yaxes(dict(\n",
    "        title=f'{colname}',\n",
    "    ))\n",
    "    if layout_kwargs:\n",
    "        fig.update_layout(**layout_kwargs)\n",
    "    return fig\n",
    "plot_sig('ex:CDKN2A,-LMNB1,-TOP2A_percent_all_positive', 'CDKN2A,-LMNB1,-TOP2A positive cells per subtype<br>(as percentage of all cells)', layout_kwargs=dict(height=800, width=1200, font=dict(family='arial')))\n"
   ]
  },
  {
   "cell_type": "code",
   "execution_count": null,
   "metadata": {},
   "outputs": [],
   "source": [
    "def plot_sig_facet(col, colname=None, color='cellgroup', layout_kwargs=None):\n",
    "    if not colname:\n",
    "        colname = col\n",
    "\n",
    "    groups = dict(\n",
    "        neuron=[\n",
    "            'SST',\n",
    "            'NP',\n",
    "            'PEP1',\n",
    "            'NF2',\n",
    "            'NF1',\n",
    "            'NF3',\n",
    "            'p_cLTMR2',\n",
    "            'cLTMR1',\n",
    "            'PEP2',\n",
    "        ],\n",
    "        glia=[\n",
    "            'Schwann',\n",
    "            'Repair schwann',\n",
    "            'Satglia',\n",
    "        ],\n",
    "        other=[\n",
    "            'B cell',\n",
    "            'Endothelial',\n",
    "            'Fibroblast',\n",
    "            'Macrophage',\n",
    "            'Neutrophil',\n",
    "            'Repair fibroblast',\n",
    "            'Pericyte',\n",
    "        ],\n",
    "    )\n",
    "\n",
    "    def getgrp(x):\n",
    "        for k, v in groups.items():\n",
    "            if x in v:\n",
    "                return k\n",
    "\n",
    "    signature['cellgroup'] = [getgrp(x) for x in signature['subtype']]\n",
    "\n",
    "    sums = signature.groupby(['hour', 'hour_idx', 'hour_int', 'cellgroup']).sum()\n",
    "    sums_no_i = sums.reset_index()\n",
    "    sums_no_i.index = sums.index\n",
    "    sums = sums_no_i\n",
    "    #return sums\n",
    "    \n",
    "    fig = px.bar(\n",
    "        sums,\n",
    "        x='hour_idx',\n",
    "        y=col,\n",
    "        color=color,\n",
    "        #facet_col='compartment',\n",
    "        color_discrete_sequence=px.colors.qualitative.Dark24,\n",
    "        barmode='group',\n",
    "    )\n",
    "    fig.update_layout(dict(\n",
    "        title=f'Per Subtype {colname} Timecourse',\n",
    "    ))\n",
    "    fig.update_yaxes(dict(\n",
    "        title=f'{colname}',\n",
    "    ))\n",
    "    fig.update_xaxes(dict(\n",
    "        title='hours',\n",
    "        tickmode='array',\n",
    "        tickvals=list(range(len(hours))),\n",
    "        ticktext=[f'{h}' for h in hours],\n",
    "    ))\n",
    "    if layout_kwargs:\n",
    "        fig.update_layout(**layout_kwargs)\n",
    "    return fig, sums\n",
    "fig, sums = plot_sig_facet(\n",
    "    'ex:CDKN2A,-LMNB1,-TOP2A_percent_all_positive', \n",
    "    'CDKN2A,-LMNB1,-TOP2A positive cells per subtype<br>(as percentage of all cells)', \n",
    "    layout_kwargs=dict(\n",
    "        height=600, \n",
    "        width=1200, \n",
    "        font=dict(family='arial'),\n",
    "        margin=dict(t=100),\n",
    "        #yaxis2_title=None,\n",
    "    ),\n",
    ")\n",
    "fig.show()\n"
   ]
  },
  {
   "cell_type": "code",
   "execution_count": null,
   "metadata": {},
   "outputs": [],
   "source": [
    "sums"
   ]
  },
  {
   "cell_type": "code",
   "execution_count": null,
   "metadata": {},
   "outputs": [],
   "source": [
    "sums.to_excel(os.path.join(output_dir, 'sen_signatures_data.xlsx'))\n",
    "\n"
   ]
  },
  {
   "cell_type": "code",
   "execution_count": null,
   "metadata": {
    "editable": true,
    "slideshow": {
     "slide_type": ""
    },
    "tags": [
     "parameters",
     "params"
    ]
   },
   "outputs": [],
   "source": [
    "sc.settings.figdir = output_dir\n",
    "sc.set_figure_params(dpi_save=300, format='png')"
   ]
  },
  {
   "cell_type": "code",
   "execution_count": null,
   "metadata": {},
   "outputs": [],
   "source": [
    "plot_gs_genes(\n",
    "    adata, \n",
    "    'label',\n",
    "    qder, \n",
    "    {\n",
    "        'senmayo': 'SenMayo_genelist', \n",
    "        #'sensig': 'sensig_g1', \n",
    "        #'sasp_factors': 'sasp_review_all',\n",
    "    }, \n",
    "    add_genes=['CDKN1A', 'CDKN2A', 'ATF3', 'IL6', 'IL1B'],\n",
    ")"
   ]
  },
  {
   "cell_type": "code",
   "execution_count": null,
   "metadata": {
    "editable": true,
    "slideshow": {
     "slide_type": ""
    },
    "tags": []
   },
   "outputs": [],
   "source": [
    "plot_gs_genes(\n",
    "    adata, \n",
    "    'label',\n",
    "    qder, \n",
    "    {\n",
    "        'senmayo': 'SenMayo_genelist', \n",
    "        #'sensig': 'sensig_g1', \n",
    "        #'sasp_factors': 'sasp_review_all',\n",
    "    }, \n",
    "    add_genes=['CDKN1A', 'CDKN2A', 'ATF3', 'IL6', 'IL1B'],\n",
    "    smallest_dot=8.,\n",
    "    dot_min=.0,\n",
    "    save='renthal_dotplot.png',\n",
    ")"
   ]
  },
  {
   "cell_type": "code",
   "execution_count": null,
   "metadata": {},
   "outputs": [],
   "source": [
    "gk, des = plot_gs_genes(\n",
    "    adata, \n",
    "    'label',\n",
    "    qder, \n",
    "    {\n",
    "        'senmayo': 'SenMayo_genelist', \n",
    "        #'sensig': 'sensig_g1', \n",
    "        #'sasp_factors': 'sasp_review_all',\n",
    "    }, \n",
    "    add_genes=['CDKN1A', 'CDKN2A', 'ATF3', 'IL6', 'IL1B'],\n",
    "    smallest_dot=8.,\n",
    "    dot_min=.0,\n",
    "    return_de=True\n",
    ")"
   ]
  },
  {
   "cell_type": "code",
   "execution_count": null,
   "metadata": {
    "editable": true,
    "slideshow": {
     "slide_type": ""
    },
    "tags": []
   },
   "outputs": [],
   "source": [
    "def detable_from_gs_genes(gk, des):\n",
    "    rows = []\n",
    "    for gene_group, genes in gk.items():\n",
    "        for g in genes:\n",
    "            for cell_group, de in des.items():\n",
    "                rows.append([\n",
    "                    g,\n",
    "                    g,\n",
    "                    gene_group,\n",
    "                    cell_group,\n",
    "                    de.loc[g]['log2fc'],\n",
    "                    de.loc[g]['approx-ranksums-fdr-p'],\n",
    "                    de.loc[g]['is-de'],\n",
    "                ])\n",
    "    dpdf = pd.DataFrame(rows, columns=['index', 'gene', 'gene_group', 'cell_group', 'log2fc', 'ranksums-fdr-p', 'is-de'])\n",
    "    dpdf.set_index('index', inplace=True)\n",
    "    return dpdf\n",
    "\n",
    "dpdf = detable_from_gs_genes(gk, des)\n",
    "dpdf.to_excel(os.path.join(output_dir, 'renthal_dotplot.xlsx'))\n",
    "dpdf\n",
    "        \n",
    "    "
   ]
  },
  {
   "cell_type": "code",
   "execution_count": null,
   "metadata": {
    "editable": true,
    "slideshow": {
     "slide_type": ""
    },
    "tags": []
   },
   "outputs": [],
   "source": [
    "fig = plot_score_heatmap(\n",
    "    adata_log_scale_type, \n",
    "    'senmayo_de_sc_score', \n",
    "    norm_to_zero=False, \n",
    "    title='SenMayo DE Genes Score (neuronal)<br>Normalized to Subtype', \n",
    "    xname='Neuronal Subtype',\n",
    ")\n",
    "fig.update_layout(font=dict(family='arial', size=34))\n",
    "pio.write_image(fig, os.path.join(output_dir, 'senmayo_neuron_heatmap.svg'), scale=6, width=1080, height=1080)\n",
    "pio.write_image(fig, os.path.join(output_dir, 'senmayo_neuron_heatmap.png'), scale=6, width=1080, height=1080)\n",
    "\n",
    "fig.show()"
   ]
  },
  {
   "cell_type": "code",
   "execution_count": null,
   "metadata": {},
   "outputs": [],
   "source": [
    "df = plot_score_heatmap(\n",
    "    adata_log_scale_type, \n",
    "    'senmayo_de_sc_score', \n",
    "    norm_to_zero=False, \n",
    "    title='SenMayo DE Genes Score (neuronal)<br>Normalized to Subtype', \n",
    "    xname='Neuronal Subtype',\n",
    "    return_df=True\n",
    ")\n",
    "\n",
    "\n",
    "df"
   ]
  },
  {
   "cell_type": "code",
   "execution_count": null,
   "metadata": {},
   "outputs": [],
   "source": [
    "list(adata.obs['label_subtype'].unique())"
   ]
  },
  {
   "cell_type": "code",
   "execution_count": null,
   "metadata": {},
   "outputs": [],
   "source": [
    "rows = []\n",
    "for subtype in adata.obs['subtype'].unique():\n",
    "    adata_s = adata[adata.obs['subtype'] == subtype]\n",
    "    timepoints = list(adata_s.obs['label_subtype'].unique())\n",
    "    naive = [t for t in timepoints if t.endswith('Naive')][0]\n",
    "    others = [t for t in timepoints if t != naive]\n",
    "    adata_n = adata_s[adata_s.obs['label_subtype'] == naive]\n",
    "    scores_n = adata_n.obs['senmayo_de_sc_score']\n",
    "    for o in others:\n",
    "        adata_o = adata_s[adata_s.obs['label_subtype'] == o]\n",
    "        scores_o = adata_o.obs['senmayo_de_sc_score']\n",
    "        s, p = scipy.stats.ranksums(scores_o, scores_n)\n",
    "        ttr = scipy.stats.ttest_ind(scores_o, scores_n)\n",
    "        ttp = ttr.pvalue\n",
    "        rows.append([f'{o}:{naive}', subtype, o, naive, p, ttp])\n",
    "heatmap_stats = pd.DataFrame(rows, columns=['contrast', 'subtype', 'foreground', 'background', 'ranksums_p', 'ttest_p'])\n",
    "heatmap_stats.set_index('contrast', inplace=True)\n",
    "heatmap_stats = heatmap_stats.sort_values(by=['foreground'])\n",
    "heatmap_stats.to_excel(os.path.join(output_dir, 'renthal_heatmap_stats.xlsx'))\n",
    "heatmap_stats\n",
    "        \n",
    "        \n",
    "        "
   ]
  },
  {
   "cell_type": "code",
   "execution_count": null,
   "metadata": {
    "editable": true,
    "slideshow": {
     "slide_type": ""
    },
    "tags": [
     "parameters",
     "params"
    ]
   },
   "outputs": [],
   "source": [
    "\n",
    "als = list(adata.obs['atf3_label'].unique())\n",
    "def sort_key_als(l):\n",
    "    if l == 'Naive':\n",
    "        return (0, 0)\n",
    "        \n",
    "    h = int(re.match('.*?_(\\d+)h_.*$', l).group(1))\n",
    "    if 'ATF3-' in l:\n",
    "        return (1, h)\n",
    "    else:\n",
    "        return (2, h)\n",
    "\n",
    "als = list(sorted(als, key=sort_key_als))\n",
    "    \n",
    "plot_gs_genes(\n",
    "    adata, \n",
    "    'atf3_label',\n",
    "    qder_atf3, \n",
    "    {\n",
    "        'senmayo': 'SenMayo_genelist', \n",
    "        #'sensig': 'sensig_g1', \n",
    "        #'sasp_factors': 'sasp_review_all',\n",
    "    }, \n",
    "    add_genes=['CDKN1A', 'CDKN2A', 'ATF3', 'IL6', 'IL1B'],\n",
    "    smallest_dot=8.,\n",
    "    dot_min=.0,\n",
    "    categories_order=als,\n",
    "    save='renthal_dotplot_atf3_plusminus.png',\n",
    ")"
   ]
  },
  {
   "cell_type": "code",
   "execution_count": null,
   "metadata": {},
   "outputs": [],
   "source": []
  }
 ],
 "metadata": {
  "celltoolbar": "Tags",
  "kernelspec": {
   "display_name": "Python 3 (ipykernel)",
   "language": "python",
   "name": "python3"
  },
  "language_info": {
   "codemirror_mode": {
    "name": "ipython",
    "version": 3
   },
   "file_extension": ".py",
   "mimetype": "text/x-python",
   "name": "python",
   "nbconvert_exporter": "python",
   "pygments_lexer": "ipython3",
   "version": "3.10.12"
  }
 },
 "nbformat": 4,
 "nbformat_minor": 4
}
