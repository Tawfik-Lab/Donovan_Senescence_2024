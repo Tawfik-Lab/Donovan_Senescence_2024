{
 "cells": [
  {
   "cell_type": "code",
   "execution_count": null,
   "metadata": {
    "editable": true,
    "slideshow": {
     "slide_type": ""
    },
    "tags": []
   },
   "outputs": [],
   "source": [
    "import getpass\n",
    "import sys\n",
    "import os\n",
    "import os.path\n",
    "home = os.environ[\"HOME\"]\n",
    "sys.path.append(f\"{home}/bioinformatics/lib\")\n",
    "sys.path.append(f\"{home}/bioinformatics/notebooks/analysis/chronic_pain/publishable/src/lib\")\n",
    "\n",
    "# actual libraries\n",
    "import re\n",
    "import logging\n",
    "import numpy as np\n",
    "import pandas as pd\n",
    "import scanpy as sc\n",
    "import scipy.stats as sps\n",
    "from anndata import AnnData\n",
    "import anndata\n",
    "from collections import defaultdict, OrderedDict\n",
    "import plotly.express.colors as pxcolors\n",
    "import plotly.express as px\n",
    "import plotly.graph_objects as go\n",
    "import plotly.io as pio\n",
    "from plotly.subplots import make_subplots\n",
    "\n",
    "# local to this analysis\n",
    "import de\n",
    "import plotting\n",
    "import scoring\n",
    "import signatures\n",
    "import util\n",
    "\n",
    "# need to stop using\n",
    "from rubedo.platform.client import dev_instance\n",
    "from rubedo.platform.target_discovery.filters import create_binary_annotation\n",
    "\n",
    "# for development\n",
    "from importlib import reload\n",
    "\n",
    "\n",
    "FORMAT = '%(asctime)-15s %(message)s'\n",
    "logging.basicConfig(format=FORMAT)\n",
    "logger = logging.getLogger(__name__)\n",
    "logger.setLevel(logging.INFO)\n",
    "\n",
    "sc.settings.verbosity = 3\n",
    "sc.logging.print_header()\n",
    "sc.settings.set_figure_params(dpi=120, dpi_save=480)"
   ]
  },
  {
   "cell_type": "code",
   "execution_count": null,
   "metadata": {
    "editable": true,
    "slideshow": {
     "slide_type": ""
    },
    "tags": [
     "parameters",
     "params"
    ]
   },
   "outputs": [],
   "source": [
    "dataset = 'GSE155622'\n",
    "\n",
    "figure_dir = '../../build/figures'\n",
    "sc.settings.figdir = figure_dir\n",
    "supplement_dir = '../../build/supplement'\n",
    "\n",
    "neuron_filter = {\n",
    "    'cell_type': [\n",
    "        'Mrgprd/Gm7271',\n",
    "        'Mrgpra3/Mrgprb4',\n",
    "        'Cldn9',\n",
    "        'Mrgprd/Lpar3',\n",
    "        'S100b/Smr2',\n",
    "        'S100b/Ntrk3/Gfra1',\n",
    "        'Zcchc12/Sstr2',\n",
    "        'S100b/Prokr2',\n",
    "        'Th/Fam19a4',\n",
    "        'Zcchc12/Dcn',\n",
    "        'S100b/Baiap2l1',\n",
    "        'Mrgpra3',\n",
    "        'Zcchc12/Trpm8',\n",
    "        'Nppb',\n",
    "        'S100b/Wnt7a',\n",
    "        'Zcchc12/Rxfp1',\n",
    "        'Atf3/Mrgprd',\n",
    "        'Atf3/Gfra3/Gal',\n",
    "        'Atf3/S100b/Gal',\n",
    "        'Atf3/Fam19a4',\n",
    "        'Neuron',\n",
    "    ],\n",
    "}\n",
    "non_neuron_filter = {\n",
    "    'cell_type': [\n",
    "        'Fibroblast',\n",
    "        'Immune',\n",
    "        'Red_blood_cell',\n",
    "        'Satellite',\n",
    "        'Schwann',\n",
    "        'VEC',\n",
    "        'VECC',\n",
    "        'VSMC',\n",
    "        'Immune Cell',\n",
    "        'Red Blood Cell',\n",
    "        'Satellite Cell',\n",
    "        'Schwann Cell',\n",
    "        'RBC'\n",
    "    ],\n",
    "}\n",
    "\n",
    "# config for deg selection\n",
    "l2fc_thresh = .6\n"
   ]
  },
  {
   "cell_type": "code",
   "execution_count": null,
   "metadata": {},
   "outputs": [],
   "source": [
    "#client = dev_instance()\n",
    "#broker = client.get_databroker(dataset)\n",
    "#adata = broker.load_variant(variant)\n",
    "adata = sc.read_h5ad(os.path.join('../../build/datasets', dataset, f'{dataset}.h5ad'))\n",
    "adata"
   ]
  },
  {
   "cell_type": "code",
   "execution_count": null,
   "metadata": {},
   "outputs": [],
   "source": [
    "adata.obs['condition'].unique()"
   ]
  },
  {
   "cell_type": "code",
   "execution_count": null,
   "metadata": {},
   "outputs": [],
   "source": [
    "# clean up the author supplied condition column a lttle bit\n",
    "\n",
    "if 'old_condition' in adata.obs:\n",
    "    adata.obs['condition'] == adata.obs['old_condition']\n",
    "def get_hour(x):\n",
    "    m = re.match('.*?(\\d+)([hd]).*', x)\n",
    "    if m is None:\n",
    "        return 0\n",
    "    elif m.group(2) == 'h':\n",
    "        return int(m.group(1))\n",
    "    else:\n",
    "        return int(m.group(1)) * 24\n",
    "\n",
    "def h_or_d(h):\n",
    "    if h >= 24:\n",
    "        return f'{int(h / 24):02}d'\n",
    "    else:\n",
    "        return f'{h:02}h'\n",
    "        \n",
    "adata.obs['hour'] = [get_hour(x) for x in adata.obs['condition']]\n",
    "adata.obs['hourday'] = [h_or_d(h) for h in adata.obs['hour']]\n",
    "\n"
   ]
  },
  {
   "cell_type": "code",
   "execution_count": null,
   "metadata": {},
   "outputs": [],
   "source": [
    "# keep the old condition annotation, but put in the cleaned up one\n",
    "adata.obs['old_condition'] = adata.obs['condition']\n",
    "adata.obs['condition'] = [f'SNI_{hd}' for hd in adata.obs['hourday']]\n",
    "adata.obs['condition'].unique()"
   ]
  },
  {
   "cell_type": "code",
   "execution_count": null,
   "metadata": {
    "editable": true,
    "slideshow": {
     "slide_type": ""
    },
    "tags": []
   },
   "outputs": [],
   "source": [
    "# just for confirmation, produce umap of dataset\n",
    "adata_scaled = adata.copy()\n",
    "sc.pp.log1p(adata_scaled)\n",
    "sc.pp.scale(adata_scaled, zero_center=False)\n",
    "sc.pp.pca(adata_scaled)\n",
    "sc.pp.neighbors(adata_scaled)\n",
    "sc.tl.umap(adata_scaled)"
   ]
  },
  {
   "cell_type": "code",
   "execution_count": null,
   "metadata": {},
   "outputs": [],
   "source": [
    "# plot a few umaps for confirmation of annotations\n",
    "sc.pl.umap(adata_scaled, color='cell_type')"
   ]
  },
  {
   "cell_type": "code",
   "execution_count": null,
   "metadata": {},
   "outputs": [],
   "source": [
    "# add a 'compartment' annotation to clearly denote neurons from non-neurons using author supplied cell types included\n",
    "# with the dataset\n",
    "neuron_mask = util.adata_filter_mask(adata_scaled, neuron_filter)\n",
    "compartment = ['neuron' if m else 'non-neuron' for m in neuron_mask]\n",
    "adata.obs['compartment'] = compartment\n",
    "adata_scaled.obs['compartment'] = compartment"
   ]
  },
  {
   "cell_type": "code",
   "execution_count": null,
   "metadata": {},
   "outputs": [],
   "source": [
    "sc.pl.umap(adata_scaled, color='compartment')"
   ]
  },
  {
   "cell_type": "code",
   "execution_count": null,
   "metadata": {},
   "outputs": [],
   "source": [
    "sc.pl.umap(adata_scaled, color='condition')"
   ]
  },
  {
   "cell_type": "code",
   "execution_count": null,
   "metadata": {},
   "outputs": [],
   "source": [
    "sc.tl.leiden(adata_scaled)\n",
    "sc.pl.umap(adata_scaled, color='leiden')\n"
   ]
  },
  {
   "cell_type": "code",
   "execution_count": null,
   "metadata": {},
   "outputs": [],
   "source": [
    "adata_neuron = util.adata_filter(adata, neuron_filter)\n",
    "adata_neuron"
   ]
  },
  {
   "cell_type": "code",
   "execution_count": null,
   "metadata": {},
   "outputs": [],
   "source": [
    "list(sorted(adata_neuron.obs['condition'].unique()))"
   ]
  },
  {
   "cell_type": "code",
   "execution_count": null,
   "metadata": {},
   "outputs": [],
   "source": [
    "list(sorted(adata_neuron.obs['hour'].unique()))"
   ]
  },
  {
   "cell_type": "code",
   "execution_count": null,
   "metadata": {},
   "outputs": [],
   "source": [
    "# generate contrasts of each model timepoint against the Naive control\n",
    "hour_condition_map = {}\n",
    "for hour, condition in zip(adata_neuron.obs['hour'], adata_neuron.obs['condition']):\n",
    "    hour_condition_map[hour] = condition\n",
    "\n",
    "naive = None\n",
    "contrasts = {}\n",
    "condition_order = []\n",
    "for hour in sorted(adata_neuron.obs['hour'].unique()):\n",
    "    condition = hour_condition_map[hour]\n",
    "    condition_order.append(condition)\n",
    "    if hour == 0:\n",
    "        naive = condition\n",
    "    else:\n",
    "        contrast_name = f'{condition}:{naive}'\n",
    "        fg_filter = {'condition': condition}\n",
    "        bg_filter = {'condition': naive}\n",
    "        contrasts[contrast_name] = (fg_filter, bg_filter)\n",
    "contrasts\n"
   ]
  },
  {
   "cell_type": "code",
   "execution_count": null,
   "metadata": {
    "editable": true,
    "slideshow": {
     "slide_type": ""
    },
    "tags": []
   },
   "outputs": [],
   "source": [
    "des_neuron = de.differential_expression(adata_neuron, contrasts, tests=['ranksums'])\n",
    "des_neuron['SNI_02d:SNI_00h']"
   ]
  },
  {
   "cell_type": "code",
   "execution_count": null,
   "metadata": {},
   "outputs": [],
   "source": [
    "# use the flag_de function to add a boolean 'is-de' column to each DataFrame\n",
    "# log2fc_thresh: abs(log2fc) must be greater than this\n",
    "# p_column: which computed statistic should be used as a significance threshold\n",
    "# p_thresh: the value of the p_column must be <= p_thresh\n",
    "de.flag_de(des_neuron, log2fc_thresh=l2fc_thresh, p_column='ranksums-fdr-p', p_thresh=.05)\n",
    "\n",
    "# show an example differential expression table\n",
    "det = des_neuron['SNI_02d:SNI_00h']\n",
    "det[det['is-de']]"
   ]
  },
  {
   "cell_type": "code",
   "execution_count": null,
   "metadata": {},
   "outputs": [],
   "source": [
    "# plot differentially expressed genes from included gene sets\n",
    "# shows only genes that are differential expressed in at least one of the differential expression tables\n",
    "plotting.plot_de_genes(\n",
    "    adata_neuron, \n",
    "    'condition', \n",
    "    des_neuron, \n",
    "    genesets={'senmayo': 'senmayo_mouse', 'sasp_review': 'sasp_review_mouse'}, \n",
    "    genes=['Cdkn1a', 'Cdkn2a', 'Atf3', 'Il6', 'Il1b'],\n",
    "    sort_genes_by='expr',\n",
    "    smallest_dot=8.,\n",
    "    dot_min=.0,\n",
    "    categories_order=condition_order,\n",
    "    save='wang_senescence.png',\n",
    ")"
   ]
  },
  {
   "cell_type": "code",
   "execution_count": null,
   "metadata": {
    "editable": true,
    "slideshow": {
     "slide_type": ""
    },
    "tags": []
   },
   "outputs": [],
   "source": [
    "# output also the stats for the above plot\n",
    "de_summary = de.summarize_de_genes(\n",
    "    des_neuron, \n",
    "    genesets={'senmayo': 'senmayo_mouse', 'sasp_review': 'sasp_review_mouse'}, \n",
    "    genes=['Cdkn1a', 'Cdkn2a', 'Atf3', 'Il6', 'Il1b'],\n",
    ")\n",
    "de_summary.to_excel(os.path.join(supplement_dir, 'wang_senescence.xlsx'))\n",
    "de_summary"
   ]
  },
  {
   "cell_type": "code",
   "execution_count": null,
   "metadata": {
    "editable": true,
    "slideshow": {
     "slide_type": ""
    },
    "tags": []
   },
   "outputs": [],
   "source": [
    "# output all differentially expressed genes for neuron timepoints, subtypes, and atf3 positivity combinations\n",
    "with pd.ExcelWriter(os.path.join(supplement_dir, 'wang_differential_expression.xlsx')) as writer:\n",
    "    for de_name, de in des_neuron.items():\n",
    "        sheet_name = re.sub(':', '_vs_', de_name)\n",
    "        de.to_excel(writer, sheet_name=sheet_name)"
   ]
  },
  {
   "cell_type": "code",
   "execution_count": null,
   "metadata": {
    "editable": true,
    "slideshow": {
     "slide_type": ""
    },
    "tags": []
   },
   "outputs": [],
   "source": []
  }
 ],
 "metadata": {
  "celltoolbar": "Tags",
  "kernelspec": {
   "display_name": "Python 3 (ipykernel)",
   "language": "python",
   "name": "python3"
  },
  "language_info": {
   "codemirror_mode": {
    "name": "ipython",
    "version": 3
   },
   "file_extension": ".py",
   "mimetype": "text/x-python",
   "name": "python",
   "nbconvert_exporter": "python",
   "pygments_lexer": "ipython3",
   "version": "3.10.12"
  }
 },
 "nbformat": 4,
 "nbformat_minor": 4
}
