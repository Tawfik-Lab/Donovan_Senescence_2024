{
 "cells": [
  {
   "cell_type": "code",
   "execution_count": null,
   "metadata": {
    "editable": true,
    "slideshow": {
     "slide_type": ""
    },
    "tags": []
   },
   "outputs": [],
   "source": [
    "import sys\n",
    "import os\n",
    "import os.path\n",
    "import re\n",
    "import logging\n",
    "import numpy as np\n",
    "import pandas as pd\n",
    "import scanpy as sc\n",
    "import scipy.stats as sps\n",
    "from anndata import AnnData\n",
    "import anndata\n",
    "from collections import defaultdict, OrderedDict\n",
    "import plotly.express.colors as pxcolors\n",
    "import plotly.express as px\n",
    "import plotly.graph_objects as go\n",
    "import plotly.io as pio\n",
    "from plotly.subplots import make_subplots\n",
    "\n",
    "# local to this analysis\n",
    "import de\n",
    "import plotting\n",
    "import scoring\n",
    "import signatures\n",
    "import util\n",
    "\n",
    "FORMAT = '%(asctime)-15s %(message)s'\n",
    "logging.basicConfig(format=FORMAT)\n",
    "logger = logging.getLogger(__name__)\n",
    "logger.setLevel(logging.INFO)\n",
    "\n",
    "sc.settings.verbosity = 3\n",
    "sc.logging.print_header()\n",
    "sc.settings.set_figure_params(dpi=120)"
   ]
  },
  {
   "cell_type": "code",
   "execution_count": null,
   "metadata": {},
   "outputs": [],
   "source": [
    "figure_dir = '../../build/figures'\n",
    "sc.settings.figdir = figure_dir\n",
    "supplement_dir = '../../build/supplement'\n",
    "\n",
    "dataset = 'GSE249746'\n",
    "gene_signatures = [\n",
    "    'CDKN1A,-LMNB1,-MKI67,-TOP2A',\n",
    "    'CDKN2A,-LMNB1,-MKI67,-TOP2A',\n",
    "    'CDKN1A,CDKN2A,-LMNB1,-MKI67,-TOP2A',\n",
    "    'ATF3',\n",
    "    'ATF3,CDKN1A,-LMNB1,-MKI67,-TOP2A',\n",
    "    'ATF3,CDKN2A,-LMNB1,-MKI67,-TOP2A',\n",
    "    'ATF3,CDKN1A,CDKN2A,-LMNB1,-MKI67,-TOP2A',\n",
    "    \n",
    "    '-ATF3,CDKN1A,-LMNB1,-MKI67,-TOP2A',\n",
    "    '-ATF3,CDKN2A,-LMNB1,-MKI67,-TOP2A',\n",
    "    '-ATF3,CDKN1A,CDKN2A,-LMNB1,-MKI67,-TOP2A',\n",
    "]\n"
   ]
  },
  {
   "cell_type": "code",
   "execution_count": null,
   "metadata": {},
   "outputs": [],
   "source": [
    "#client = dev_instance()\n",
    "#broker = client.get_databroker(dataset)\n",
    "#adata = broker.load_variant(variant)\n",
    "adata = sc.read_h5ad(os.path.join('../../build/datasets/', dataset, f'{dataset}.h5ad'))\n",
    "adata"
   ]
  },
  {
   "cell_type": "code",
   "execution_count": null,
   "metadata": {},
   "outputs": [],
   "source": [
    "# evaluate signatures\n",
    "adata_scaled = adata.copy()\n",
    "sc.pp.log1p(adata_scaled)\n",
    "sc.pp.scale(adata_scaled, zero_center=False)\n",
    "signatures.assess_signatures(adata_scaled, gene_signatures)"
   ]
  },
  {
   "cell_type": "code",
   "execution_count": null,
   "metadata": {
    "editable": true,
    "slideshow": {
     "slide_type": ""
    },
    "tags": []
   },
   "outputs": [],
   "source": [
    "signatures_df = signatures.summarize_signatures(\n",
    "    adata_scaled.obs, \n",
    "    gene_signatures, \n",
    "    'donor_id', \n",
    "    include_columns=['age'],\n",
    "    sort_by=['age'],\n",
    ")\n",
    "signatures_df"
   ]
  },
  {
   "cell_type": "code",
   "execution_count": null,
   "metadata": {
    "editable": true,
    "slideshow": {
     "slide_type": ""
    },
    "tags": [
     "parameters",
     "params"
    ]
   },
   "outputs": [],
   "source": [
    "# example plot (not published) of signature positive cell percentages\n",
    "fig = px.bar(signatures_df, x='age', y='CDKN2A,-LMNB1,-MKI67,-TOP2A_percent_group_positive')\n",
    "fig.update_layout(\n",
    "    height=800, \n",
    "    width=1000, \n",
    "    font=dict(size=14, family='arial'), \n",
    "    title='Human Single Soma: Percent of cells that are CDKN2A+ and MKI67-,LMNB1-,TOP2A-',\n",
    ")\n",
    "fig.update_xaxes(title='age')\n",
    "fig.update_yaxes(title=f'Percent cells expressing CDKN2A,-LMNB1,-MKI67,-TOP2A')\n",
    "fig.show()"
   ]
  },
  {
   "cell_type": "code",
   "execution_count": null,
   "metadata": {},
   "outputs": [],
   "source": [
    "#use chi2 test to see if there is a significant dependency between age and each signature\n",
    "\n",
    "# chi2 test of cell counts by age and senescence signature\n",
    "#           | 23 | 56 | 61 \n",
    "#-----------+----+----+-----\n",
    "# senescent | a  | b  | c \n",
    "#-----------+----+----+-----\n",
    "# not-senes | d  | e  | f\n",
    "\n",
    "\n",
    "test_columns = [x for x in signatures_df.columns if x.endswith('num_cells_positive')]\n",
    "for c in test_columns:\n",
    "    t = signatures_df['total']\n",
    "    p = signatures_df[c]\n",
    "    n = t - p\n",
    "    ct = np.vstack([p, n])\n",
    "    r = sps.chi2_contingency(ct)\n",
    "    pc = re.sub('num_cells_positive', 'chi2_p', c)\n",
    "    signatures_df[pc] = r.pvalue\n",
    "\n",
    "# reorder columns again\n",
    "sig_cols = []\n",
    "for sig in gene_signatures:\n",
    "    for c in signatures_df.columns:\n",
    "        if c.startswith(f'{sig}_'):\n",
    "            sig_cols.append(c)\n",
    "signatures_df = signatures_df[[c for c in signatures_df.columns if c not in sig_cols] + sig_cols]\n",
    "signatures_df"
   ]
  },
  {
   "cell_type": "code",
   "execution_count": null,
   "metadata": {},
   "outputs": [],
   "source": [
    "rows = []\n",
    "for i, p in signatures_df[[c for c in signatures_df.columns if c.endswith('chi2_p')]].iloc[0].items():\n",
    "    rows.append([i, f'{p:.4}'])\n",
    "pd.DataFrame(rows, columns=['signature', 'pvalue'])"
   ]
  },
  {
   "cell_type": "code",
   "execution_count": null,
   "metadata": {},
   "outputs": [],
   "source": [
    "# write to excel\n",
    "signatures_df.to_excel(os.path.join(supplement_dir, 'human_single_soma_sen_signatures.xlsx'))"
   ]
  },
  {
   "cell_type": "code",
   "execution_count": null,
   "metadata": {},
   "outputs": [],
   "source": []
  }
 ],
 "metadata": {
  "celltoolbar": "Tags",
  "kernelspec": {
   "display_name": "Python 3 (ipykernel)",
   "language": "python",
   "name": "python3"
  },
  "language_info": {
   "codemirror_mode": {
    "name": "ipython",
    "version": 3
   },
   "file_extension": ".py",
   "mimetype": "text/x-python",
   "name": "python",
   "nbconvert_exporter": "python",
   "pygments_lexer": "ipython3",
   "version": "3.10.12"
  }
 },
 "nbformat": 4,
 "nbformat_minor": 4
}
