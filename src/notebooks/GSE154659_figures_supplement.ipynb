{
 "cells": [
  {
   "cell_type": "code",
   "execution_count": null,
   "metadata": {
    "editable": true,
    "slideshow": {
     "slide_type": ""
    },
    "tags": []
   },
   "outputs": [],
   "source": [
    "import sys\n",
    "import os\n",
    "import os.path\n",
    "# actual libraries\n",
    "import re\n",
    "import logging\n",
    "import numpy as np\n",
    "import pandas as pd\n",
    "import scanpy as sc\n",
    "import scipy.stats as sps\n",
    "from anndata import AnnData\n",
    "import anndata\n",
    "from collections import defaultdict, OrderedDict\n",
    "import plotly.express.colors as pxcolors\n",
    "import plotly.express as px\n",
    "import plotly.graph_objects as go\n",
    "import plotly.io as pio\n",
    "from plotly.subplots import make_subplots\n",
    "\n",
    "# local to this analysis\n",
    "import de\n",
    "import plotting\n",
    "import scoring\n",
    "import signatures\n",
    "import util\n",
    "\n",
    "FORMAT = '%(asctime)-15s %(message)s'\n",
    "logging.basicConfig(format=FORMAT)\n",
    "logger = logging.getLogger(__name__)\n",
    "logger.setLevel(logging.INFO)\n",
    "\n",
    "sc.settings.verbosity = 3\n",
    "sc.logging.print_header()\n",
    "sc.settings.set_figure_params(dpi=120, dpi_save=480)"
   ]
  },
  {
   "cell_type": "code",
   "execution_count": null,
   "metadata": {
    "editable": true,
    "slideshow": {
     "slide_type": ""
    },
    "tags": []
   },
   "outputs": [],
   "source": [
    "# Configuration\n",
    "figure_dir = '../../build/figures'\n",
    "sc.settings.figdir = figure_dir\n",
    "supplement_dir = '../../build/supplement'\n",
    "\n",
    "dataset = 'GSE154659'\n",
    "\n",
    "model = 'ScNT'\n",
    "neuron_filter = {\n",
    "    'model': [model, 'Naive'],\n",
    "    'mouse': 'C57',\n",
    "    'subtype': [\n",
    "        'SST',\n",
    "        'NP',\n",
    "        'PEP1',\n",
    "        'NF2',\n",
    "        'NF1',\n",
    "        'NF3',\n",
    "        'p_cLTMR2',\n",
    "        'cLTMR1',\n",
    "        'PEP2',\n",
    "    ],\n",
    "    'n_counts': lambda x: x <= 15000,\n",
    "    'predicted_doublet': False,\n",
    "}\n",
    "non_neuron_filter = {\n",
    "    'model': [model, 'Naive'],\n",
    "    'mouse': 'C57',\n",
    "    'subtype': [\n",
    "        'Schwann',\n",
    "        'Repair schwann',\n",
    "        'B cell',\n",
    "        'Endothelial',\n",
    "        'Fibroblast',\n",
    "        'Macrophage',\n",
    "        'Neutrophil',\n",
    "        'Repair fibroblast',\n",
    "        'Satglia',\n",
    "        'Pericyte',\n",
    "    ],\n",
    "    'n_counts': lambda x: x <= 15000,\n",
    "    'predicted_doublet': False,\n",
    "}\n",
    "\n",
    "\n",
    "# abs(log2 fold change) must be greater than this\n",
    "l2fc_thresh = .6 \n",
    "\n",
    "# per cell gene signatures to assess\n",
    "gene_signatures = [\n",
    "    'Cdkn2a,-Lmnb1,-Top2a',\n",
    "    'Cdkn1a,Cdkn2a,-Lmnb1,-Top2a',\n",
    "    'Cdkn1a,-Lmnb1,-Top2a',\n",
    "    'Cdkn2a,-Top2a',\n",
    "]\n",
    "\n",
    "# in some cases we group cells into larger cell type groups\n",
    "# according to this scheme\n",
    "cell_groups = dict(\n",
    "    neuron=[\n",
    "        'SST',\n",
    "        'NP',\n",
    "        'PEP1',\n",
    "        'NF2',\n",
    "        'NF1',\n",
    "        'NF3',\n",
    "        'p_cLTMR2',\n",
    "        'cLTMR1',\n",
    "        'PEP2',\n",
    "    ],\n",
    "    glia=[\n",
    "        'Schwann',\n",
    "        'Repair schwann',\n",
    "        'Satglia',\n",
    "    ],\n",
    "    other=[\n",
    "        'B cell',\n",
    "        'Endothelial',\n",
    "        'Fibroblast',\n",
    "        'Macrophage',\n",
    "        'Neutrophil',\n",
    "        'Repair fibroblast',\n",
    "        'Pericyte',\n",
    "    ],\n",
    ")\n",
    "\n"
   ]
  },
  {
   "cell_type": "code",
   "execution_count": null,
   "metadata": {
    "editable": true,
    "slideshow": {
     "slide_type": ""
    },
    "tags": []
   },
   "outputs": [],
   "source": [
    "# Load Dataset \n",
    "#client = dev_instance()\n",
    "#broker = client.get_databroker(dataset)\n",
    "#adata = broker.load_variant('lin_norm')\n",
    "\n",
    "adata = sc.read_h5ad(os.path.join('../../build/datasets/', dataset, f'{dataset}.h5ad'))\n",
    "\n",
    "adata"
   ]
  },
  {
   "cell_type": "code",
   "execution_count": null,
   "metadata": {},
   "outputs": [],
   "source": [
    "adata.obs['predicted_doublet'].value_counts()"
   ]
  },
  {
   "cell_type": "code",
   "execution_count": null,
   "metadata": {},
   "outputs": [],
   "source": [
    "adata.var_names = [x.capitalize() for x in adata.var_names]"
   ]
  },
  {
   "cell_type": "code",
   "execution_count": null,
   "metadata": {},
   "outputs": [],
   "source": [
    "# split dataset into neurons and non-neurons according to filters described above\n",
    "# filter datasets to only contains the configured model and cell types\n",
    "adata_neuron = util.adata_filter(adata, neuron_filter).copy()\n",
    "adata_non_neuron = util.adata_filter(adata, non_neuron_filter).copy()\n",
    "adata_neuron\n"
   ]
  },
  {
   "cell_type": "code",
   "execution_count": null,
   "metadata": {},
   "outputs": [],
   "source": [
    "adata_non_neuron"
   ]
  },
  {
   "cell_type": "code",
   "execution_count": null,
   "metadata": {
    "editable": true,
    "slideshow": {
     "slide_type": ""
    },
    "tags": []
   },
   "outputs": [],
   "source": [
    "\n",
    "# add some categorizations here to help group cells\n",
    "# label: A combination of model and time-point\n",
    "# label_subtype: a combination of model, time-point, and subtype\n",
    "\n",
    "adata_neuron.obs['label'] = [f'{model}_{int(hour):04}h' if cmodel == model else cmodel for (cmodel, hour) in zip(adata_neuron.obs['model'], adata_neuron.obs['hour'])]\n",
    "adata_neuron.obs['label_subtype'] = [f'{subtype}_{int(hour):04}h' if cmodel == model else f'{subtype}_{0:04}_Naive' for (cmodel, subtype, hour) in zip(adata_neuron.obs['model'], adata_neuron.obs['subtype'], adata_neuron.obs['hour'])]\n",
    "\n",
    "adata_non_neuron.obs['label'] = [f'{model}_{int(hour):04}h' if cmodel == model else model for (cmodel, hour) in zip(adata_non_neuron.obs['model'], adata_non_neuron.obs['hour'])]\n",
    "adata_non_neuron.obs['label_subtype'] = [f'{subtype}_{int(hour):04}h' if cmodel == model else f'{subtype}_{0:04}_Naive' for (cmodel, subtype, hour) in zip(adata_non_neuron.obs['model'], adata_non_neuron.obs['subtype'], adata_non_neuron.obs['hour'])]\n",
    "\n",
    "adata_neuron.obs['label'].unique()\n",
    "adata_neuron.obs['label_subtype'].unique()"
   ]
  },
  {
   "cell_type": "code",
   "execution_count": null,
   "metadata": {},
   "outputs": [],
   "source": [
    "# list of unique labels\n",
    "adata_neuron.obs['label'].unique()"
   ]
  },
  {
   "cell_type": "code",
   "execution_count": null,
   "metadata": {},
   "outputs": [],
   "source": [
    "# list of unique subtype labels\n",
    "adata_neuron.obs['label_subtype'].unique()"
   ]
  },
  {
   "cell_type": "code",
   "execution_count": null,
   "metadata": {},
   "outputs": [],
   "source": [
    "# create an additional label that includes whether a cell has nonzero expression of ATF3\n",
    "\n",
    "def atf3_label(l, a):\n",
    "    if l == 'Naive':\n",
    "        return l\n",
    "    if a:\n",
    "        return f'{l}_Atf3+'\n",
    "    else:\n",
    "        return f'{l}_Atf3-'\n",
    "adata_neuron.obs['atf3_label'] = [atf3_label(l, a) for (l, a) in zip(adata_neuron.obs['label'], util.adata_filter_mask(adata_neuron, {'Atf3': {'gt': 0.0}}))]\n",
    "adata_neuron.obs['atf3_label'].unique()"
   ]
  },
  {
   "cell_type": "code",
   "execution_count": null,
   "metadata": {},
   "outputs": [],
   "source": [
    "# create differential expression contrasts\n",
    "# for each of label, label_subtype, and atf3_label, create a comparison between that grouping of cells, and the comperable grouping of Naive cells\n",
    "# in the resulting 'comparisons' dictionary, t\n",
    "# key is: \"Forground:Background\" where Foreground and Background are the names of the group of cells, for example \"ScNT_1440h:Naive\"\n",
    "# value is: a tuple of filter dictionaries (each composed of {\"obs_key\": \"required_value\"} as accepted by the adata_filter_mask() function) \n",
    "#   one for foreground cells, and one for background\n",
    "\n",
    "naive = None\n",
    "naive_subtype = None\n",
    "modeled = {}\n",
    "modeled_subtype = {}\n",
    "modeled_atf3 = {}\n",
    "for i, row in adata_neuron.obs.iterrows():\n",
    "    model = row['model']\n",
    "    hour = row['hour']\n",
    "    label = row['label']\n",
    "    label_subtype = row['label_subtype']\n",
    "    atf3_label = row['atf3_label']\n",
    "\n",
    "    if model == 'Naive':\n",
    "        if naive is None:\n",
    "            naive = {'label': label}\n",
    "        if naive_subtype is None:\n",
    "            naive_subtype = {'label_subtype': label_subtype}\n",
    "    else:\n",
    "        val = (int(hour), {'label': label})\n",
    "        if label not in modeled:\n",
    "            modeled[label] = val\n",
    "            \n",
    "        val_subtype = (int(hour), {'label_subtype': label_subtype})\n",
    "        if label_subtype not in modeled_subtype:\n",
    "            modeled_subtype[label_subtype] = val_subtype\n",
    "\n",
    "        val_atf3 = (int(hour), {'atf3_label': atf3_label})\n",
    "        if atf3_label not in modeled_atf3:\n",
    "            modeled_atf3[atf3_label] = val_atf3\n",
    "\n",
    "modeled = [y[1] for y in sorted(modeled.values(), key=lambda x: x[0])]\n",
    "modeled_atf3 = [y[1] for y in sorted(modeled_atf3.values(), key=lambda x: x[0])]\n",
    "modeled_subtype = [y[1] for y in sorted(modeled_subtype.values(), key=lambda x: x[0])]\n",
    "\n",
    "comparisons = {}\n",
    "for m in modeled:\n",
    "    v = list(m.values())[0]\n",
    "    n = list(naive.values())[0]\n",
    "    comparisons[f'{v}:{n}'] = (m, naive)\n",
    "for m in modeled_atf3:\n",
    "    v = list(m.values())[0]\n",
    "    n = list(naive.values())[0]\n",
    "    comparisons[f'{v}:{n}'] = (m, naive)\n",
    "for m in modeled_subtype:\n",
    "    v = list(m.values())[0]\n",
    "    n = list(naive_subtype.values())[0]\n",
    "    comparisons[f'{v}:{n}'] = (m, naive_subtype)\n",
    "\n",
    "comparisons\n",
    "    "
   ]
  },
  {
   "cell_type": "code",
   "execution_count": null,
   "metadata": {},
   "outputs": [],
   "source": [
    "# compute differential expression for neurons based on the above configured contrasts\n",
    "# takes the dictionary of contrast_name to contrast filters\n",
    "# it returns a dictionary of contrast_name -> pandas.DataFrame\n",
    "# each DataFrame contains the per-gene differential expression statistics\n",
    "des_neuron = de.differential_expression(adata_neuron, comparisons)\n",
    "des_neuron['NF3_1440h:SST_0000_Naive']"
   ]
  },
  {
   "cell_type": "code",
   "execution_count": null,
   "metadata": {
    "editable": true,
    "slideshow": {
     "slide_type": ""
    },
    "tags": []
   },
   "outputs": [],
   "source": [
    "# use the flag_de function to add a boolean 'is-de' column to each DataFrame\n",
    "# log2fc_thresh: abs(log2fc) must be greater than this\n",
    "# p_column: which computed statistic should be used as a significance threshold\n",
    "# p_thresh: the value of the p_column must be <= p_thresh\n",
    "de.flag_de(des_neuron, log2fc_thresh=l2fc_thresh, p_column='ranksums-fdr-p', p_thresh=.05)\n",
    "\n",
    "# show an example differential expression table\n",
    "det = des_neuron['NF3_1440h:SST_0000_Naive']\n",
    "det[det['is-de']]\n",
    "    "
   ]
  },
  {
   "cell_type": "code",
   "execution_count": null,
   "metadata": {},
   "outputs": [],
   "source": [
    "# split the differential expression tables up into 3 different analysis groups: label, label_subtype, label_atf3\n",
    "des_neuron_label = {k: v for k, v in des_neuron.items() if k.endswith(':Naive') and 'Atf3' not in k}\n",
    "des_neuron_label_subtype = {k: v for k, v in des_neuron.items() if not k.endswith(':Naive') and 'Atf3' not in k}\n",
    "des_neuron_atf3 = {k: v for k, v in des_neuron.items() if 'Atf3' in k}\n",
    "\n"
   ]
  },
  {
   "cell_type": "markdown",
   "metadata": {},
   "source": [
    "# Plot Core Senescence genes, core chronic pain markers, and senescence associated genes from SenMayo and SASP constituants\n",
    "\n",
    "Core Senescence Genes: CDKN1A, CDKN2A\n",
    "\n",
    "Core Pain Genes: ATF3, IL6, IL1B\n"
   ]
  },
  {
   "cell_type": "code",
   "execution_count": null,
   "metadata": {
    "editable": true,
    "slideshow": {
     "slide_type": ""
    },
    "tags": []
   },
   "outputs": [],
   "source": [
    "# plot differentially expressed genes from included gene sets\n",
    "# shows only genes that are differential expressed in at least one of the differential expression tables\n",
    "plotting.plot_de_genes(\n",
    "    adata_neuron, \n",
    "    'label', \n",
    "    des_neuron_label, \n",
    "    genesets={'senmayo': 'senmayo_mouse', 'sasp_review': 'sasp_review_mouse'}, \n",
    "    genes=['Cdkn1a', 'Cdkn2a', 'Atf3', 'Il6', 'Il1b'],\n",
    "    sort_genes_by='expr',\n",
    "    smallest_dot=8.,\n",
    "    dot_min=.0,\n",
    "    save='renthal_senescence.png',\n",
    ")"
   ]
  },
  {
   "cell_type": "code",
   "execution_count": null,
   "metadata": {
    "editable": true,
    "slideshow": {
     "slide_type": ""
    },
    "tags": []
   },
   "outputs": [],
   "source": [
    "# output also the stats for the above plot\n",
    "label_de_summary = de.summarize_de_genes(des_neuron_label, genesets={'senmayo': 'senmayo_mouse', 'sasp_review': 'sasp_review_mouse'}, genes=['Cdkn1a', 'Cdkn2a', 'Atf3', 'Il6', 'Il1b'])\n",
    "label_de_summary.to_excel(os.path.join(supplement_dir, 'renthal_senescence.xlsx'))\n",
    "label_de_summary"
   ]
  },
  {
   "cell_type": "code",
   "execution_count": null,
   "metadata": {},
   "outputs": [],
   "source": [
    "# for plotting purposes order the atf3 labels Naive, ATF3-, ATF3+, and otherwise by timepoint\n",
    "atf3_labels = list(adata_neuron.obs['atf3_label'].unique())\n",
    "def sort_order(atf3_label):\n",
    "    if atf3_label == 'Naive':\n",
    "        return 0\n",
    "    sp = atf3_label.split('_')\n",
    "    model, hour, atf3 = sp\n",
    "    hv = int(hour[:-1])\n",
    "    if atf3 == 'Atf3+':\n",
    "        hv += 10000\n",
    "    return hv\n",
    "atf3_labels.sort(key=sort_order)\n",
    "atf3_labels"
   ]
  },
  {
   "cell_type": "code",
   "execution_count": null,
   "metadata": {},
   "outputs": [],
   "source": [
    "# plot differentially expressed genes from included gene sets\n",
    "# shows only genes that are differential expressed in at least one of the differential expression tables\n",
    "plotting.plot_de_genes(\n",
    "    adata_neuron, \n",
    "    'atf3_label', \n",
    "    des_neuron_atf3, \n",
    "    genesets={'senmayo': 'senmayo_mouse', 'sasp_review': 'sasp_review_mouse'}, \n",
    "    genes=['Cdkn1a', 'Cdkn2a', 'Atf3', 'Il6', 'Il1b'],\n",
    "    sort_genes_by='expr',\n",
    "    smallest_dot=8.,\n",
    "    dot_min=.0,\n",
    "    categories_order=atf3_labels,\n",
    "    save='renthal_atf3_split_senescence.png',\n",
    ")"
   ]
  },
  {
   "cell_type": "code",
   "execution_count": null,
   "metadata": {},
   "outputs": [],
   "source": [
    "# output also the stats for the above plot\n",
    "atf3_de_summary = de.summarize_de_genes(des_neuron_atf3, genesets={'senmayo': 'senmayo_mouse', 'sasp_review': 'sasp_review_mouse'}, genes=['Cdkn1a', 'Cdkn2a', 'Atf3', 'Il6', 'Il1b'])\n",
    "atf3_de_summary.to_excel(os.path.join(supplement_dir, 'renthal_atf3_split_senescence.xlsx'))\n",
    "atf3_de_summary"
   ]
  },
  {
   "cell_type": "code",
   "execution_count": null,
   "metadata": {
    "editable": true,
    "slideshow": {
     "slide_type": ""
    },
    "tags": []
   },
   "outputs": [],
   "source": [
    "# select from the senmayo geneset only the genes that have some kind of differential expression at any model timepoint\n",
    "senmayo_de_genes = de.get_de_genes(des_neuron, genes=['Cdkn1a', 'Cdkn2a'], genesets={'senmayo': 'senmayo_mouse'})\n",
    "print(f'SenMayo DE Genes (at any timepoint): {senmayo_de_genes}')\n",
    "\n",
    "# using this subset of senmayo genes, score each single cell for its expression of genes in the gene-set\n",
    "# this is normalized within each neuron subtype\n",
    "scoring.score_within_key(\n",
    "    adata_neuron, \n",
    "    list(senmayo_de_genes),\n",
    "    'subtype',\n",
    "    'senmayo_score',\n",
    ")\n",
    "    \n",
    "        \n",
    "    "
   ]
  },
  {
   "cell_type": "code",
   "execution_count": null,
   "metadata": {
    "editable": true,
    "slideshow": {
     "slide_type": ""
    },
    "tags": []
   },
   "outputs": [],
   "source": [
    "# plot heatmap of senmayo scores across model timepoints and neuron subtypes\n",
    "fig = plotting.plot_score_heatmap(adata_neuron, 'subtype', 'hour', 'senmayo_score', y_as='int')\n",
    "fig.update_layout(title='Mean SenMayo Score', font=dict(family='arial', size=34))\n",
    "pio.write_image(fig, os.path.join(figure_dir, 'renthal_senmayo_neuron_heatmap.svg'), scale=6, width=1080, height=1080)\n",
    "pio.write_image(fig, os.path.join(figure_dir, 'renthal_senmayo_neuron_heatmap.png'), scale=6, width=1080, height=1080)\n",
    "fig.show()"
   ]
  },
  {
   "cell_type": "code",
   "execution_count": null,
   "metadata": {
    "editable": true,
    "slideshow": {
     "slide_type": ""
    },
    "tags": []
   },
   "outputs": [],
   "source": [
    "# create a new AnnData object only containing the normalized senmayo scores\n",
    "adata_neuron_scores = AnnData(adata_neuron.obs[['senmayo_score']])\n",
    "adata_neuron_scores.obs = adata_neuron.obs\n",
    "adata_neuron_scores\n"
   ]
  },
  {
   "cell_type": "code",
   "execution_count": null,
   "metadata": {},
   "outputs": [],
   "source": [
    "# compute \"differential expression\" of senmayo scores in order to generate statistical significace values for changes in score\n",
    "des_neuron_scores = de.differential_expression(adata_neuron_scores, comparisons, tests=['ranksums', 'ttest'])"
   ]
  },
  {
   "cell_type": "code",
   "execution_count": null,
   "metadata": {},
   "outputs": [],
   "source": [
    "det = des_neuron_scores['ScNT_0024h:Naive']\n",
    "det"
   ]
  },
  {
   "cell_type": "code",
   "execution_count": null,
   "metadata": {},
   "outputs": [],
   "source": [
    "# output the score differential expression statistics\n",
    "rows = []\n",
    "for c, de in des_neuron_scores.items():\n",
    "    if c.endswith(':Naive'):\n",
    "        continue\n",
    "    sp = c.split(':')\n",
    "    fg = sp[0]\n",
    "    bg = sp[1]\n",
    "    st = '_'.join(fg.split('_')[:-1])\n",
    "    row = de.iloc[0]\n",
    "    rp = row['ranksums-p']\n",
    "    tp = row['ttest-p']\n",
    "    fga = row['fg_lin-avg']\n",
    "    bga = row['bg_lin-avg']\n",
    "    rows.append([c, st, fg, bg, fga, bga, fga - bga, rp, tp, rp < .05, tp < .05])\n",
    "score_stats = pd.DataFrame(rows, columns=['contrast', 'subtype', 'foreground', 'background', 'foreground_mean', 'background_mean', 'score_delta', 'ranksums_p', 'ttest_p', 'ranksums_significant', 'ttest_significant'])\n",
    "score_stats = score_stats.sort_values('contrast')\n",
    "score_stats.set_index('contrast', inplace=True)\n",
    "score_stats.to_excel(os.path.join(supplement_dir, 'renthal_senmayo_neuron_scores_stats.xlsx'))\n",
    "score_stats\n",
    "    \n",
    "    "
   ]
  },
  {
   "cell_type": "code",
   "execution_count": null,
   "metadata": {},
   "outputs": [],
   "source": [
    "# assess configured gene signatures on all neurons and non-neurons\n",
    "# data is log1p transformed and scaled to per-gene variance without zero centering\n",
    "\n",
    "adata_neuron_scaled = adata_neuron.copy()\n",
    "sc.pp.log1p(adata_neuron_scaled)\n",
    "sc.pp.scale(adata_neuron_scaled, zero_center=False)\n",
    "signatures.assess_signatures(adata_neuron_scaled, gene_signatures)\n",
    "\n",
    "adata_non_neuron_scaled = adata_non_neuron.copy()\n",
    "sc.pp.log1p(adata_non_neuron_scaled)\n",
    "sc.pp.scale(adata_non_neuron_scaled, zero_center=False)\n",
    "signatures.assess_signatures(adata_non_neuron_scaled, gene_signatures)"
   ]
  },
  {
   "cell_type": "code",
   "execution_count": null,
   "metadata": {
    "editable": true,
    "slideshow": {
     "slide_type": ""
    },
    "tags": []
   },
   "outputs": [],
   "source": [
    "# summarize signatures, and clean up the output a little bit for better export\n",
    "adata_neuron_scaled.obs['compartment'] = 'neuronal'\n",
    "adata_non_neuron_scaled.obs['compartment'] = 'non-neuronal'\n",
    "signatures_obs = pd.concat([adata_neuron_scaled.obs, adata_non_neuron_scaled.obs])\n",
    "\n",
    "# append a cellgroup annotation based on configuration above\n",
    "def getgrp(x):\n",
    "    for k, v in cell_groups.items():\n",
    "        if x in v:\n",
    "            return k\n",
    "signatures_obs['cellgroup'] = [getgrp(s) for s in signatures_obs['subtype']]\n",
    "\n",
    "# add the hour as an integer for sorting purposes\n",
    "signatures_obs['hour_int'] = [int(x) for x in signatures_obs['hour']]\n",
    "\n",
    "signatures_df = signatures.summarize_signatures(\n",
    "    signatures_obs,\n",
    "    gene_signatures,\n",
    "    groupby=['hour', 'cellgroup'],\n",
    "    include_columns=['subtype', 'compartment', 'hour_int'],\n",
    "    totals_groupby='hour',\n",
    "    sort_by=['hour_int', 'cellgroup'],\n",
    ")\n",
    "\n",
    "# hour_int column not really needed, was just for sorting\n",
    "signatures_df = signatures_df[[c for c in signatures_df.columns if c != 'hour_int']]\n",
    "signatures_df.to_excel(os.path.join(supplement_dir, f'renthal_sen_signatures.xlsx'))\n",
    "\n",
    "signatures_df"
   ]
  },
  {
   "cell_type": "code",
   "execution_count": null,
   "metadata": {
    "editable": true,
    "slideshow": {
     "slide_type": ""
    },
    "tags": []
   },
   "outputs": [],
   "source": [
    "# quick timecourse plot of signature positivity\n",
    "# these are not exported as the final plots are made in prism from the spreadsheet\n",
    "def plot_signature_summary(sig_df, column, **layout_kwargs):\n",
    "    fig = px.line(sig_df, x='hour', y=column, color='cellgroup')\n",
    "    fig.update_layout(**layout_kwargs)\n",
    "    return fig\n",
    "\n",
    "for sig in gene_signatures:\n",
    "    gp = f'{sig}_percent_group_positive'\n",
    "    plot_signature_summary(signatures_df, gp, height=800, width=1000, title=f'{sig} Percent of Cell Group').show()\n",
    "                           \n",
    "    ap = f'{sig}_percent_all_positive'\n",
    "    plot_signature_summary(signatures_df, ap, height=800, width=1000, title=f'{sig} Percent of All Cells (per timepoint)').show()\n",
    "\n"
   ]
  },
  {
   "cell_type": "code",
   "execution_count": null,
   "metadata": {
    "editable": true,
    "slideshow": {
     "slide_type": ""
    },
    "tags": []
   },
   "outputs": [],
   "source": [
    "# output all differentially expressed genes for neuron timepoints, subtypes, and atf3 positivity combinations\n",
    "\n",
    "with pd.ExcelWriter(os.path.join(supplement_dir, 'renthal_differential_expression.xlsx')) as writer:\n",
    "    for de_name, de in des_neuron.items():\n",
    "        sheet_name = re.sub(':', '_vs_', de_name)\n",
    "        sheet_name = re.sub('_0000', '', sheet_name)\n",
    "        de.to_excel(writer, sheet_name=sheet_name)"
   ]
  },
  {
   "cell_type": "code",
   "execution_count": null,
   "metadata": {
    "editable": true,
    "slideshow": {
     "slide_type": ""
    },
    "tags": []
   },
   "outputs": [],
   "source": []
  },
  {
   "cell_type": "code",
   "execution_count": null,
   "metadata": {},
   "outputs": [],
   "source": []
  }
 ],
 "metadata": {
  "celltoolbar": "Tags",
  "kernelspec": {
   "display_name": "Python 3 (ipykernel)",
   "language": "python",
   "name": "python3"
  },
  "language_info": {
   "codemirror_mode": {
    "name": "ipython",
    "version": 3
   },
   "file_extension": ".py",
   "mimetype": "text/x-python",
   "name": "python",
   "nbconvert_exporter": "python",
   "pygments_lexer": "ipython3",
   "version": "3.10.12"
  }
 },
 "nbformat": 4,
 "nbformat_minor": 4
}
