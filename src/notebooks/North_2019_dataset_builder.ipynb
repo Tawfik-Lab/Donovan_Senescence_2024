{
 "cells": [
  {
   "cell_type": "code",
   "execution_count": null,
   "id": "0",
   "metadata": {
    "editable": true,
    "slideshow": {
     "slide_type": ""
    },
    "tags": []
   },
   "outputs": [],
   "source": [
    "import sys\n",
    "import os\n",
    "import os.path\n",
    "import numpy as np\n",
    "import pandas as pd\n",
    "import scanpy as sc\n",
    "import scanpy.external as sce\n",
    "from scipy.sparse import issparse\n",
    "import anndata\n",
    "from anndata import AnnData\n",
    "import seaborn as sns\n",
    "import matplotlib.pyplot as plt\n",
    "from IPython.display import display, HTML\n",
    "from collections import defaultdict, OrderedDict\n",
    "import gzip\n",
    "import csv\n",
    "import re\n",
    "import io\n",
    "import logging\n",
    "import warnings\n",
    "import subprocess\n",
    "from preprocessing import *\n",
    "\n",
    "FORMAT = '%(asctime)-15s %(message)s'\n",
    "logging.basicConfig(format=FORMAT)\n",
    "logger = logging.getLogger(__name__)\n",
    "logger.setLevel(logging.INFO)\n",
    "warnings.filterwarnings('ignore')\n",
    "pd.set_option('display.max_rows', 50)\n",
    "sc.settings.verbosity = 3\n",
    "sc.logging.print_header()\n",
    "sc.settings.set_figure_params(dpi=120, color_map=\"cividis\")"
   ]
  },
  {
   "cell_type": "code",
   "execution_count": null,
   "id": "1",
   "metadata": {},
   "outputs": [],
   "source": [
    "dataset = \"North_2019\"\n",
    "species = \"Human\""
   ]
  },
  {
   "cell_type": "code",
   "execution_count": null,
   "id": "2",
   "metadata": {},
   "outputs": [],
   "source": [
    "dirname = os.getcwd()\n",
    "source = os.path.abspath(os.path.join(dirname, f'../../build/datasets/{dataset}'))\n",
    "fns = os.listdir(os.path.join(source, 'downloads'))\n",
    "print(source)\n",
    "fns"
   ]
  },
  {
   "cell_type": "code",
   "execution_count": null,
   "id": "3",
   "metadata": {},
   "outputs": [],
   "source": [
    "meta_fn = 'Supplementary_Table1.xlsx'\n",
    "data_fn = 'Supplementary_Table2.xlsx'"
   ]
  },
  {
   "cell_type": "code",
   "execution_count": null,
   "id": "4",
   "metadata": {},
   "outputs": [],
   "source": [
    "meta_df = pd.read_excel(os.path.join(source, 'downloads', meta_fn), header=1)\n",
    "meta_df = meta_df[0:29]\n",
    "meta_df.columns = [x.lower().replace(\" \", \"_\") for x in meta_df.columns]\n",
    "meta_df.rename(columns = {\"patient_#\":\"patient_id\"}, inplace=True)\n",
    "meta_df[\"patient_id\"] = meta_df[\"patient_id\"].astype(str)\n",
    "meta_df[\"vas_at_maximal_intensity\"].replace(\"Not reported\", np.nan, inplace=True)\n",
    "meta_df[\"vas_at_maximal_intensity\"] = meta_df[\"vas_at_maximal_intensity\"].astype(float)\n",
    "meta_df"
   ]
  },
  {
   "cell_type": "code",
   "execution_count": null,
   "id": "5",
   "metadata": {},
   "outputs": [],
   "source": [
    "sample_df = pd.read_excel(os.path.join(source, 'downloads', data_fn), header=2)[0:3]\n",
    "sample_df.drop(columns=['Unnamed: 1', 'Unnamed: 2'], inplace=True)\n",
    "sample_df = sample_df.T\n",
    "sample_df.columns = [\"sex\", \"patient_id\", \"associated_pain\"]\n",
    "sample_df = sample_df[1:]\n",
    "sample_df"
   ]
  },
  {
   "cell_type": "code",
   "execution_count": null,
   "id": "6",
   "metadata": {},
   "outputs": [],
   "source": [
    "tpm_df = pd.read_excel(os.path.join(source, 'downloads', data_fn), header=6)\n",
    "tpm_df.columns = [\"gene_name\", \"entrez_id\", \"gene_chr\"] + list(sample_df.index)\n",
    "tpm_df[\"gene_name\"] = [x.lstrip('<').rstrip('>') for x in tpm_df[\"gene_name\"]]\n",
    "tpm_df.set_index(\"gene_name\", inplace=True)\n",
    "var_df = tpm_df[[\"entrez_id\", \"gene_chr\"]].copy()\n",
    "tpm_df.drop(columns=[\"entrez_id\", \"gene_chr\"], inplace=True)\n",
    "\n",
    "for c in tpm_df:\n",
    "    tpm_df[c] = tpm_df[c].replace('[NA]', np.nan)\n",
    "    tpm_df[c] = tpm_df[c].astype(float)\n",
    "    \n",
    "tpm_df"
   ]
  },
  {
   "cell_type": "code",
   "execution_count": null,
   "id": "7",
   "metadata": {},
   "outputs": [],
   "source": [
    "adata = AnnData(np.array(tpm_df.T), dtype=float)\n",
    "\n",
    "adata.obs = sample_df.copy()\n",
    "adata.obs[\"sample_id\"] = [x.rsplit(\"_\", 1)[0] for x in adata.obs_names]\n",
    "adata.obs[\"is_pair\"] = [x.split(\" (\")[-1].rstrip(\")\") for x in adata.obs[\"patient_id\"]]\n",
    "adata.obs[\"patient_id\"] = [str(x.split(\" \")[0]) for x in adata.obs[\"patient_id\"]]\n",
    "adata.obs = adata.obs.merge(meta_df.drop(columns=[\"sex\"]), how=\"left\", on=\"patient_id\")\n",
    "adata.obs.index = [x for x in list(adata.obs[\"sample_id\"])]\n",
    "\n",
    "adata.var = var_df.copy()\n",
    "adata"
   ]
  },
  {
   "cell_type": "code",
   "execution_count": null,
   "id": "8",
   "metadata": {},
   "outputs": [],
   "source": [
    "# process dataset\n",
    "ensure_unique_idx(adata)\n",
    "enforce_sparsity(adata)\n",
    "fix_nan_x(adata)\n",
    "filter_nan_var_names(adata)\n",
    "del_raw(adata)\n",
    "calc_n_genes(adata)\n",
    "standardize_gene_symbols(adata, species=species)\n",
    "adata"
   ]
  },
  {
   "cell_type": "code",
   "execution_count": null,
   "id": "9",
   "metadata": {},
   "outputs": [],
   "source": [
    "adata.var"
   ]
  },
  {
   "cell_type": "code",
   "execution_count": null,
   "id": "10",
   "metadata": {},
   "outputs": [],
   "source": [
    "perplexity = min(adata.X.shape[0] - 1, 10)\n",
    "\n",
    "sc.pp.pca(adata)\n",
    "sc.pp.neighbors(adata)\n",
    "    \n",
    "if adata.X.shape[0] > 2:\n",
    "    sc.tl.louvain(adata)\n",
    "    sc.tl.leiden(adata)\n",
    "    sc.tl.paga(adata, groups='louvain')\n",
    "    sc.pl.paga(adata)\n",
    "    sc.tl.umap(adata, init_pos='paga')\n",
    "    sc.tl.tsne(adata, perplexity=perplexity)"
   ]
  },
  {
   "cell_type": "code",
   "execution_count": null,
   "id": "11",
   "metadata": {},
   "outputs": [],
   "source": [
    "fname = os.path.join(source, f\"{dataset}.h5ad\")\n",
    "print(fname)\n",
    "adata.write(fname, compression=\"gzip\")"
   ]
  },
  {
   "cell_type": "code",
   "execution_count": null,
   "id": "12",
   "metadata": {},
   "outputs": [],
   "source": []
  }
 ],
 "metadata": {
  "kernelspec": {
   "display_name": "Python 3 (ipykernel)",
   "language": "python",
   "name": "python3"
  },
  "language_info": {
   "codemirror_mode": {
    "name": "ipython",
    "version": 3
   },
   "file_extension": ".py",
   "mimetype": "text/x-python",
   "name": "python",
   "nbconvert_exporter": "python",
   "pygments_lexer": "ipython3",
   "version": "3.10.12"
  }
 },
 "nbformat": 4,
 "nbformat_minor": 5
}
