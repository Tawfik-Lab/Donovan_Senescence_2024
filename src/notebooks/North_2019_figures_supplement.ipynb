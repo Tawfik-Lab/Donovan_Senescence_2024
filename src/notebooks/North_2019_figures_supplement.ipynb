{
 "cells": [
  {
   "cell_type": "code",
   "execution_count": null,
   "metadata": {
    "editable": true,
    "slideshow": {
     "slide_type": ""
    },
    "tags": [
     "parameters",
     "params"
    ]
   },
   "outputs": [],
   "source": [
    "import sys\n",
    "import os\n",
    "import os.path\n",
    "import re\n",
    "import logging\n",
    "import numpy as np\n",
    "import pandas as pd\n",
    "import scanpy as sc\n",
    "import scipy.stats as sps\n",
    "from anndata import AnnData\n",
    "import anndata\n",
    "from collections import defaultdict, OrderedDict\n",
    "import plotly.express.colors as pxcolors\n",
    "import plotly.express as px\n",
    "import plotly.graph_objects as go\n",
    "import plotly.io as pio\n",
    "from plotly.subplots import make_subplots\n",
    "\n",
    "# local to this analysis\n",
    "import de\n",
    "import plotting\n",
    "import scoring\n",
    "import signatures\n",
    "import util\n",
    "\n",
    "# for development\n",
    "from importlib import reload\n",
    "\n",
    "\n",
    "FORMAT = '%(asctime)-15s %(message)s'\n",
    "logging.basicConfig(format=FORMAT)\n",
    "logger = logging.getLogger(__name__)\n",
    "logger.setLevel(logging.INFO)\n",
    "\n",
    "sc.settings.verbosity = 3\n",
    "sc.logging.print_header()\n",
    "sc.settings.set_figure_params(dpi=120)"
   ]
  },
  {
   "cell_type": "code",
   "execution_count": null,
   "metadata": {
    "editable": true,
    "slideshow": {
     "slide_type": ""
    },
    "tags": []
   },
   "outputs": [],
   "source": [
    "#dataset = 'North_2019_DRG'\n",
    "\n",
    "figure_dir = '../../build/figures'\n",
    "sc.settings.figdir = figure_dir\n",
    "supplement_dir = '../../build/supplement'\n",
    "\n",
    "dataset = 'North_2019'\n",
    "metrics = ['CDKN1A', 'CDKN2A', 'ATF3', 'senmayo_score']\n",
    "categoricals = ['associated_pain']\n",
    "numericals = ['age']\n"
   ]
  },
  {
   "cell_type": "code",
   "execution_count": null,
   "metadata": {},
   "outputs": [],
   "source": [
    "#client = dev_instance()\n",
    "#broker = client.get_databroker(dataset)\n",
    "#adata = broker.load_variant(variant)\n",
    "adata = sc.read_h5ad(os.path.join('../../build/datasets', dataset, f'{dataset}.h5ad'))\n",
    "adata"
   ]
  },
  {
   "cell_type": "code",
   "execution_count": null,
   "metadata": {},
   "outputs": [],
   "source": [
    "# perform senmayo scoring\n",
    "senmayo_genes = util.get_geneset('senmayo_human')\n",
    "adata_scaled = adata.copy()\n",
    "sc.pp.log1p(adata_scaled)\n",
    "sc.pp.scale(adata_scaled, zero_center=True)\n",
    "sc.tl.score_genes(\n",
    "    adata_scaled,\n",
    "    senmayo_genes,\n",
    "    ctrl_size=len(senmayo_genes),\n",
    "    score_name='senmayo_score',\n",
    ")"
   ]
  },
  {
   "cell_type": "code",
   "execution_count": null,
   "metadata": {},
   "outputs": [],
   "source": [
    "# extract some values\n",
    "i = 0\n",
    "metric_rows = []\n",
    "for idx, row in adata_scaled.obs.iterrows():\n",
    "    metric_values = []\n",
    "    for m in metrics:\n",
    "        if m in adata.var_names:\n",
    "            midx = list(adata.var_names).index(m)\n",
    "            metric_values.append(adata.X[i, midx])\n",
    "        elif m in adata_scaled.obs:\n",
    "            metric_values.append(row[m])\n",
    "        else:\n",
    "            raise Exception(f'metric {m} not found in dataset as gene or obs key')\n",
    "    cats = [row[c] for c in categoricals]\n",
    "    nums = [row[n] for n in numericals]\n",
    "    metric_rows.append([idx] + cats + nums + metric_values)\n",
    "    i += 1\n",
    "\n",
    "metric_df = pd.DataFrame(metric_rows, columns=['index'] + categoricals + numericals + metrics)\n",
    "metric_df"
   ]
  },
  {
   "cell_type": "code",
   "execution_count": null,
   "metadata": {},
   "outputs": [],
   "source": [
    "# git differential expression by associated pain\n",
    "contrasts = {\"pain:no_pain\": ({'associated_pain': 'Yes'}, {'associated_pain': 'No'})}\n",
    "de_pain = de.differential_expression(adata, contrasts, tests=['ttest'])\n",
    "de = de_pain['pain:no_pain']\n",
    "de\n"
   ]
  },
  {
   "cell_type": "code",
   "execution_count": null,
   "metadata": {
    "editable": true,
    "slideshow": {
     "slide_type": ""
    },
    "tags": [
     "parameters",
     "params"
    ]
   },
   "outputs": [],
   "source": [
    "rows = []\n",
    "for c in categoricals:\n",
    "    for m in metrics:\n",
    "        if m in adata.var_names:\n",
    "            p = de.loc[m]['ttest-p']\n",
    "            l = de.loc[m]['log2fc']\n",
    "            rows.append([m, 'categorical', c, 't-test', l, None, p])\n",
    "        else:\n",
    "            ydf = metric_df[metric_df[c] == 'Yes']\n",
    "            ndf = metric_df[metric_df[c] == 'No']\n",
    "            yv = ydf[m]\n",
    "            nv = ndf[m]\n",
    "            r = sps.ttest_ind(yv, nv)\n",
    "            l = np.log2(np.mean(yv) - np.mean(nv))\n",
    "            p = r.pvalue\n",
    "            rows.append([m, 'categorical', c, 't-test', l, None, p])\n",
    "\n",
    "for n in numericals:\n",
    "    for m in metrics:\n",
    "        num = metric_df[n]\n",
    "        v = metric_df[m]\n",
    "\n",
    "        r = sps.spearmanr(num, v)\n",
    "        rows.append([m, 'numeric', n, 'spearman', None, r.statistic, r.pvalue])\n",
    "\n",
    "stats_df = pd.DataFrame(rows, columns=['metric', 'association_type', 'association', 'test', 'log2fc', 'correlation_coeff', 'p'])\n",
    "stats_df\n",
    "    "
   ]
  },
  {
   "cell_type": "code",
   "execution_count": null,
   "metadata": {
    "editable": true,
    "slideshow": {
     "slide_type": ""
    },
    "tags": [
     "parameters",
     "params"
    ]
   },
   "outputs": [],
   "source": [
    "with pd.ExcelWriter(os.path.join(supplement_dir, 'north_2019_tests.xlsx')) as writer:\n",
    "    metric_df.to_excel(writer, sheet_name='extracted_values')\n",
    "    stats_df.to_excel(writer, sheet_name='statistical_tests')"
   ]
  },
  {
   "cell_type": "code",
   "execution_count": null,
   "metadata": {
    "editable": true,
    "slideshow": {
     "slide_type": ""
    },
    "tags": []
   },
   "outputs": [],
   "source": []
  }
 ],
 "metadata": {
  "celltoolbar": "Tags",
  "kernelspec": {
   "display_name": "Python 3 (ipykernel)",
   "language": "python",
   "name": "python3"
  },
  "language_info": {
   "codemirror_mode": {
    "name": "ipython",
    "version": 3
   },
   "file_extension": ".py",
   "mimetype": "text/x-python",
   "name": "python",
   "nbconvert_exporter": "python",
   "pygments_lexer": "ipython3",
   "version": "3.10.12"
  }
 },
 "nbformat": 4,
 "nbformat_minor": 4
}
