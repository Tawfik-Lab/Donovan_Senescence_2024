{
 "cells": [
  {
   "cell_type": "code",
   "execution_count": null,
   "id": "0",
   "metadata": {},
   "outputs": [],
   "source": [
    "import sys\n",
    "import os\n",
    "import os.path\n",
    "import numpy as np\n",
    "import pandas as pd\n",
    "import scanpy as sc\n",
    "import scanpy.external as sce\n",
    "from scipy.sparse import issparse\n",
    "import anndata\n",
    "from anndata import AnnData\n",
    "import seaborn as sns\n",
    "import matplotlib.pyplot as plt\n",
    "from IPython.display import display, HTML\n",
    "from collections import defaultdict, OrderedDict\n",
    "import gzip\n",
    "import csv\n",
    "import re\n",
    "import io\n",
    "import logging\n",
    "import warnings\n",
    "import subprocess\n",
    "from multiprocessing import Pool\n",
    "from preprocessing import *\n",
    "\n",
    "FORMAT = '%(asctime)-15s %(message)s'\n",
    "logging.basicConfig(format=FORMAT)\n",
    "logger = logging.getLogger(__name__)\n",
    "logger.setLevel(logging.INFO)\n",
    "warnings.filterwarnings('ignore')\n",
    "pd.set_option('display.max_rows', 50)\n",
    "sc.settings.verbosity = 3\n",
    "sc.logging.print_header()\n",
    "sc.settings.set_figure_params(dpi=120, color_map=\"cividis\")"
   ]
  },
  {
   "cell_type": "code",
   "execution_count": null,
   "id": "1",
   "metadata": {},
   "outputs": [],
   "source": [
    "dataset = \"GSE155622\"\n",
    "species = \"Mouse\""
   ]
  },
  {
   "cell_type": "code",
   "execution_count": null,
   "id": "2",
   "metadata": {},
   "outputs": [],
   "source": [
    "dirname = os.getcwd()\n",
    "source = os.path.abspath(os.path.join(dirname, f'../../build/datasets/{dataset}'))\n",
    "fns = os.listdir(os.path.join(source, 'downloads'))\n",
    "print(source)\n",
    "fns"
   ]
  },
  {
   "cell_type": "code",
   "execution_count": null,
   "id": "3",
   "metadata": {},
   "outputs": [],
   "source": [
    "for i in [\"1\", \"2\", \"3\", \"4\"]:\n",
    "    dfm = pd.read_csv(os.path.join(source, 'downloads', f'GSE155622_raw_UMI_counts_{i}_metadata.txt.gz'), index_col=0, sep='\\t')\n",
    "    print(i + \" \" + repr(list(sorted(dfm.columns))))"
   ]
  },
  {
   "cell_type": "code",
   "execution_count": null,
   "id": "4",
   "metadata": {},
   "outputs": [],
   "source": [
    "column_map = {\n",
    "    \"Conditions\": \"condition\",\n",
    "    \"condition\": \"condition\",\n",
    "    \"modify.ident\": \"condition\",\n",
    "    \"Celltype\": \"cell_type\",\n",
    "    \"celltype\": \"cell_type\",\n",
    "    \"concat_batch\": \"concat_batch\",\n",
    "}"
   ]
  },
  {
   "cell_type": "code",
   "execution_count": null,
   "id": "5",
   "metadata": {},
   "outputs": [],
   "source": [
    "# build anndata for all samples:\n",
    "adatas = []\n",
    "def load_tsvs(index):\n",
    "    print(f'loading {index} of 4')\n",
    "    fn = f\"{dataset}_raw_UMI_counts_{index}.txt.gz\"\n",
    "    mfn = f\"{dataset}_raw_UMI_counts_{index}_metadata.txt.gz\"\n",
    "    \n",
    "    df = pd.read_csv(os.path.join(source, 'downloads', fn), index_col=0, sep='\\t').T\n",
    "    x = csr_matrix(df, dtype=np.float32)\n",
    "    obsn = list(df.index)\n",
    "    varn = list(df.columns)\n",
    "    del(df)\n",
    "    mdf = pd.read_csv(os.path.join(source, 'downloads', mfn), index_col=0, sep='\\t')\n",
    "    print(f'loaded {index} of 4')\n",
    "    \n",
    "    adata = AnnData(x)\n",
    "    adata.obs_names = obsn\n",
    "    adata.var_names = varn\n",
    "    adata.obs = mdf\n",
    "    adata.obs['concat_batch'] = [index for x in adata.obs_names]\n",
    "    print(f'adata made for {index} of 4')\n",
    "    return adata\n",
    "\n",
    "p = Pool(4)\n",
    "adatas = [x for x in p.map(load_tsvs, [\"1\", \"2\", \"3\", \"4\"])]"
   ]
  },
  {
   "cell_type": "code",
   "execution_count": null,
   "id": "6",
   "metadata": {},
   "outputs": [],
   "source": [
    "for a in adatas:\n",
    "    columns = list(a.obs.columns)\n",
    "    for c in columns:\n",
    "        if c in column_map:\n",
    "            if not c == column_map[c]:\n",
    "                a.obs[column_map[c]] = a.obs[c]\n",
    "                a.obs[f\"author.{c}\"] = a.obs[c]\n",
    "                del(a.obs[c])\n",
    "        else:\n",
    "            a.obs[f\"author.{c}\"] = a.obs[c]\n",
    "            del(a.obs[c])"
   ]
  },
  {
   "cell_type": "code",
   "execution_count": null,
   "id": "7",
   "metadata": {},
   "outputs": [],
   "source": [
    "for a in adatas:\n",
    "    print(list(sorted([x for x in a.obs.columns if not x.startswith('author.')])))"
   ]
  },
  {
   "cell_type": "code",
   "execution_count": null,
   "id": "8",
   "metadata": {},
   "outputs": [],
   "source": [
    "adata = adatas[0].copy()\n",
    "adata = adata.concatenate(adatas[1:], join=\"outer\", batch_key=\"concat_batch\")\n",
    "adata"
   ]
  },
  {
   "cell_type": "code",
   "execution_count": null,
   "id": "9",
   "metadata": {},
   "outputs": [],
   "source": [
    "# process dataset\n",
    "ensure_unique_idx(adata)\n",
    "enforce_sparsity(adata)\n",
    "fix_nan_x(adata)\n",
    "filter_nan_var_names(adata)\n",
    "del_raw(adata)\n",
    "calc_n_genes(adata)\n",
    "filter_low_quality_cells(adata)\n",
    "adata, doublet_counts = find_doublets(adata, batch_key='concat_batch')\n",
    "print(doublet_counts)\n",
    "normalize_total(adata, target_sum=1e4)\n",
    "adata"
   ]
  },
  {
   "cell_type": "code",
   "execution_count": null,
   "id": "10",
   "metadata": {},
   "outputs": [],
   "source": [
    "adata.obs.head()"
   ]
  },
  {
   "cell_type": "code",
   "execution_count": null,
   "id": "11",
   "metadata": {},
   "outputs": [],
   "source": [
    "adata.var"
   ]
  },
  {
   "cell_type": "code",
   "execution_count": null,
   "id": "12",
   "metadata": {},
   "outputs": [],
   "source": [
    "fname = os.path.join(source, f\"{dataset}.h5ad\")\n",
    "print(fname)\n",
    "adata.write(fname, compression=\"gzip\")"
   ]
  },
  {
   "cell_type": "code",
   "execution_count": null,
   "id": "13",
   "metadata": {},
   "outputs": [],
   "source": []
  }
 ],
 "metadata": {
  "kernelspec": {
   "display_name": "Python 3 (ipykernel)",
   "language": "python",
   "name": "python3"
  },
  "language_info": {
   "codemirror_mode": {
    "name": "ipython",
    "version": 3
   },
   "file_extension": ".py",
   "mimetype": "text/x-python",
   "name": "python",
   "nbconvert_exporter": "python",
   "pygments_lexer": "ipython3",
   "version": "3.10.12"
  }
 },
 "nbformat": 4,
 "nbformat_minor": 5
}
